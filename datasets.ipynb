{
  "nbformat": 4,
  "nbformat_minor": 0,
  "metadata": {
    "colab": {
      "name": "Untitled27.ipynb",
      "provenance": [],
      "authorship_tag": "ABX9TyML0nUiUPdlVReiH7mVRJnB",
      "include_colab_link": true
    },
    "kernelspec": {
      "name": "python3",
      "display_name": "Python 3"
    },
    "language_info": {
      "name": "python"
    },
    "widgets": {
      "application/vnd.jupyter.widget-state+json": {
        "fe9d48d9cc5549529c7fdf728f912ee4": {
          "model_module": "@jupyter-widgets/controls",
          "model_name": "HBoxModel",
          "model_module_version": "1.5.0",
          "state": {
            "_dom_classes": [],
            "_model_module": "@jupyter-widgets/controls",
            "_model_module_version": "1.5.0",
            "_model_name": "HBoxModel",
            "_view_count": null,
            "_view_module": "@jupyter-widgets/controls",
            "_view_module_version": "1.5.0",
            "_view_name": "HBoxView",
            "box_style": "",
            "children": [
              "IPY_MODEL_c5f1968feb2b4a519d6997355a327f9f",
              "IPY_MODEL_26a028529f3741c4baf3c9d4ec08fb07",
              "IPY_MODEL_c296f904a81145e0ba9aa1a45fd83664"
            ],
            "layout": "IPY_MODEL_c3315f5d5e4a4b80b27cbb667081ffe9"
          }
        },
        "c5f1968feb2b4a519d6997355a327f9f": {
          "model_module": "@jupyter-widgets/controls",
          "model_name": "HTMLModel",
          "model_module_version": "1.5.0",
          "state": {
            "_dom_classes": [],
            "_model_module": "@jupyter-widgets/controls",
            "_model_module_version": "1.5.0",
            "_model_name": "HTMLModel",
            "_view_count": null,
            "_view_module": "@jupyter-widgets/controls",
            "_view_module_version": "1.5.0",
            "_view_name": "HTMLView",
            "description": "",
            "description_tooltip": null,
            "layout": "IPY_MODEL_71061a35ba3a4b53a05089ce055327aa",
            "placeholder": "​",
            "style": "IPY_MODEL_0276bb5389414bd9983f1ba9c124250a",
            "value": "100%"
          }
        },
        "26a028529f3741c4baf3c9d4ec08fb07": {
          "model_module": "@jupyter-widgets/controls",
          "model_name": "FloatProgressModel",
          "model_module_version": "1.5.0",
          "state": {
            "_dom_classes": [],
            "_model_module": "@jupyter-widgets/controls",
            "_model_module_version": "1.5.0",
            "_model_name": "FloatProgressModel",
            "_view_count": null,
            "_view_module": "@jupyter-widgets/controls",
            "_view_module_version": "1.5.0",
            "_view_name": "ProgressView",
            "bar_style": "success",
            "description": "",
            "description_tooltip": null,
            "layout": "IPY_MODEL_775eff6cef5c4afe90039f54eba4aacc",
            "max": 3,
            "min": 0,
            "orientation": "horizontal",
            "style": "IPY_MODEL_37a4ba6650ac4b73b76aafe60e7ded3c",
            "value": 3
          }
        },
        "c296f904a81145e0ba9aa1a45fd83664": {
          "model_module": "@jupyter-widgets/controls",
          "model_name": "HTMLModel",
          "model_module_version": "1.5.0",
          "state": {
            "_dom_classes": [],
            "_model_module": "@jupyter-widgets/controls",
            "_model_module_version": "1.5.0",
            "_model_name": "HTMLModel",
            "_view_count": null,
            "_view_module": "@jupyter-widgets/controls",
            "_view_module_version": "1.5.0",
            "_view_name": "HTMLView",
            "description": "",
            "description_tooltip": null,
            "layout": "IPY_MODEL_0ef2d92f86b349f7b9228229bdcfd839",
            "placeholder": "​",
            "style": "IPY_MODEL_b9d7324243a84fdfb42556944591683a",
            "value": " 3/3 [00:00&lt;00:00, 51.53it/s]"
          }
        },
        "c3315f5d5e4a4b80b27cbb667081ffe9": {
          "model_module": "@jupyter-widgets/base",
          "model_name": "LayoutModel",
          "model_module_version": "1.2.0",
          "state": {
            "_model_module": "@jupyter-widgets/base",
            "_model_module_version": "1.2.0",
            "_model_name": "LayoutModel",
            "_view_count": null,
            "_view_module": "@jupyter-widgets/base",
            "_view_module_version": "1.2.0",
            "_view_name": "LayoutView",
            "align_content": null,
            "align_items": null,
            "align_self": null,
            "border": null,
            "bottom": null,
            "display": null,
            "flex": null,
            "flex_flow": null,
            "grid_area": null,
            "grid_auto_columns": null,
            "grid_auto_flow": null,
            "grid_auto_rows": null,
            "grid_column": null,
            "grid_gap": null,
            "grid_row": null,
            "grid_template_areas": null,
            "grid_template_columns": null,
            "grid_template_rows": null,
            "height": null,
            "justify_content": null,
            "justify_items": null,
            "left": null,
            "margin": null,
            "max_height": null,
            "max_width": null,
            "min_height": null,
            "min_width": null,
            "object_fit": null,
            "object_position": null,
            "order": null,
            "overflow": null,
            "overflow_x": null,
            "overflow_y": null,
            "padding": null,
            "right": null,
            "top": null,
            "visibility": null,
            "width": null
          }
        },
        "71061a35ba3a4b53a05089ce055327aa": {
          "model_module": "@jupyter-widgets/base",
          "model_name": "LayoutModel",
          "model_module_version": "1.2.0",
          "state": {
            "_model_module": "@jupyter-widgets/base",
            "_model_module_version": "1.2.0",
            "_model_name": "LayoutModel",
            "_view_count": null,
            "_view_module": "@jupyter-widgets/base",
            "_view_module_version": "1.2.0",
            "_view_name": "LayoutView",
            "align_content": null,
            "align_items": null,
            "align_self": null,
            "border": null,
            "bottom": null,
            "display": null,
            "flex": null,
            "flex_flow": null,
            "grid_area": null,
            "grid_auto_columns": null,
            "grid_auto_flow": null,
            "grid_auto_rows": null,
            "grid_column": null,
            "grid_gap": null,
            "grid_row": null,
            "grid_template_areas": null,
            "grid_template_columns": null,
            "grid_template_rows": null,
            "height": null,
            "justify_content": null,
            "justify_items": null,
            "left": null,
            "margin": null,
            "max_height": null,
            "max_width": null,
            "min_height": null,
            "min_width": null,
            "object_fit": null,
            "object_position": null,
            "order": null,
            "overflow": null,
            "overflow_x": null,
            "overflow_y": null,
            "padding": null,
            "right": null,
            "top": null,
            "visibility": null,
            "width": null
          }
        },
        "0276bb5389414bd9983f1ba9c124250a": {
          "model_module": "@jupyter-widgets/controls",
          "model_name": "DescriptionStyleModel",
          "model_module_version": "1.5.0",
          "state": {
            "_model_module": "@jupyter-widgets/controls",
            "_model_module_version": "1.5.0",
            "_model_name": "DescriptionStyleModel",
            "_view_count": null,
            "_view_module": "@jupyter-widgets/base",
            "_view_module_version": "1.2.0",
            "_view_name": "StyleView",
            "description_width": ""
          }
        },
        "775eff6cef5c4afe90039f54eba4aacc": {
          "model_module": "@jupyter-widgets/base",
          "model_name": "LayoutModel",
          "model_module_version": "1.2.0",
          "state": {
            "_model_module": "@jupyter-widgets/base",
            "_model_module_version": "1.2.0",
            "_model_name": "LayoutModel",
            "_view_count": null,
            "_view_module": "@jupyter-widgets/base",
            "_view_module_version": "1.2.0",
            "_view_name": "LayoutView",
            "align_content": null,
            "align_items": null,
            "align_self": null,
            "border": null,
            "bottom": null,
            "display": null,
            "flex": null,
            "flex_flow": null,
            "grid_area": null,
            "grid_auto_columns": null,
            "grid_auto_flow": null,
            "grid_auto_rows": null,
            "grid_column": null,
            "grid_gap": null,
            "grid_row": null,
            "grid_template_areas": null,
            "grid_template_columns": null,
            "grid_template_rows": null,
            "height": null,
            "justify_content": null,
            "justify_items": null,
            "left": null,
            "margin": null,
            "max_height": null,
            "max_width": null,
            "min_height": null,
            "min_width": null,
            "object_fit": null,
            "object_position": null,
            "order": null,
            "overflow": null,
            "overflow_x": null,
            "overflow_y": null,
            "padding": null,
            "right": null,
            "top": null,
            "visibility": null,
            "width": null
          }
        },
        "37a4ba6650ac4b73b76aafe60e7ded3c": {
          "model_module": "@jupyter-widgets/controls",
          "model_name": "ProgressStyleModel",
          "model_module_version": "1.5.0",
          "state": {
            "_model_module": "@jupyter-widgets/controls",
            "_model_module_version": "1.5.0",
            "_model_name": "ProgressStyleModel",
            "_view_count": null,
            "_view_module": "@jupyter-widgets/base",
            "_view_module_version": "1.2.0",
            "_view_name": "StyleView",
            "bar_color": null,
            "description_width": ""
          }
        },
        "0ef2d92f86b349f7b9228229bdcfd839": {
          "model_module": "@jupyter-widgets/base",
          "model_name": "LayoutModel",
          "model_module_version": "1.2.0",
          "state": {
            "_model_module": "@jupyter-widgets/base",
            "_model_module_version": "1.2.0",
            "_model_name": "LayoutModel",
            "_view_count": null,
            "_view_module": "@jupyter-widgets/base",
            "_view_module_version": "1.2.0",
            "_view_name": "LayoutView",
            "align_content": null,
            "align_items": null,
            "align_self": null,
            "border": null,
            "bottom": null,
            "display": null,
            "flex": null,
            "flex_flow": null,
            "grid_area": null,
            "grid_auto_columns": null,
            "grid_auto_flow": null,
            "grid_auto_rows": null,
            "grid_column": null,
            "grid_gap": null,
            "grid_row": null,
            "grid_template_areas": null,
            "grid_template_columns": null,
            "grid_template_rows": null,
            "height": null,
            "justify_content": null,
            "justify_items": null,
            "left": null,
            "margin": null,
            "max_height": null,
            "max_width": null,
            "min_height": null,
            "min_width": null,
            "object_fit": null,
            "object_position": null,
            "order": null,
            "overflow": null,
            "overflow_x": null,
            "overflow_y": null,
            "padding": null,
            "right": null,
            "top": null,
            "visibility": null,
            "width": null
          }
        },
        "b9d7324243a84fdfb42556944591683a": {
          "model_module": "@jupyter-widgets/controls",
          "model_name": "DescriptionStyleModel",
          "model_module_version": "1.5.0",
          "state": {
            "_model_module": "@jupyter-widgets/controls",
            "_model_module_version": "1.5.0",
            "_model_name": "DescriptionStyleModel",
            "_view_count": null,
            "_view_module": "@jupyter-widgets/base",
            "_view_module_version": "1.2.0",
            "_view_name": "StyleView",
            "description_width": ""
          }
        },
        "c64efb25f1e84231867257651a2e0fa5": {
          "model_module": "@jupyter-widgets/controls",
          "model_name": "HBoxModel",
          "model_module_version": "1.5.0",
          "state": {
            "_dom_classes": [],
            "_model_module": "@jupyter-widgets/controls",
            "_model_module_version": "1.5.0",
            "_model_name": "HBoxModel",
            "_view_count": null,
            "_view_module": "@jupyter-widgets/controls",
            "_view_module_version": "1.5.0",
            "_view_name": "HBoxView",
            "box_style": "",
            "children": [
              "IPY_MODEL_0c66a104369948a2974081e61ec788ae",
              "IPY_MODEL_ea681d6a4aa341278c2db6610ff24db4",
              "IPY_MODEL_c7286b26f3594efb9429ae97d7119bf3"
            ],
            "layout": "IPY_MODEL_12aeb161c8a5425589955930d566be9c"
          }
        },
        "0c66a104369948a2974081e61ec788ae": {
          "model_module": "@jupyter-widgets/controls",
          "model_name": "HTMLModel",
          "model_module_version": "1.5.0",
          "state": {
            "_dom_classes": [],
            "_model_module": "@jupyter-widgets/controls",
            "_model_module_version": "1.5.0",
            "_model_name": "HTMLModel",
            "_view_count": null,
            "_view_module": "@jupyter-widgets/controls",
            "_view_module_version": "1.5.0",
            "_view_name": "HTMLView",
            "description": "",
            "description_tooltip": null,
            "layout": "IPY_MODEL_e954d7da11a7435492fa4606adc1a250",
            "placeholder": "​",
            "style": "IPY_MODEL_73923a62fbba4145b17eb58eaf78282f",
            "value": "Downloading: 100%"
          }
        },
        "ea681d6a4aa341278c2db6610ff24db4": {
          "model_module": "@jupyter-widgets/controls",
          "model_name": "FloatProgressModel",
          "model_module_version": "1.5.0",
          "state": {
            "_dom_classes": [],
            "_model_module": "@jupyter-widgets/controls",
            "_model_module_version": "1.5.0",
            "_model_name": "FloatProgressModel",
            "_view_count": null,
            "_view_module": "@jupyter-widgets/controls",
            "_view_module_version": "1.5.0",
            "_view_name": "ProgressView",
            "bar_style": "success",
            "description": "",
            "description_tooltip": null,
            "layout": "IPY_MODEL_ad83f50719d14fc08984f96fbcaec59a",
            "max": 28,
            "min": 0,
            "orientation": "horizontal",
            "style": "IPY_MODEL_6563e34c056441e6ab08a543ad01e258",
            "value": 28
          }
        },
        "c7286b26f3594efb9429ae97d7119bf3": {
          "model_module": "@jupyter-widgets/controls",
          "model_name": "HTMLModel",
          "model_module_version": "1.5.0",
          "state": {
            "_dom_classes": [],
            "_model_module": "@jupyter-widgets/controls",
            "_model_module_version": "1.5.0",
            "_model_name": "HTMLModel",
            "_view_count": null,
            "_view_module": "@jupyter-widgets/controls",
            "_view_module_version": "1.5.0",
            "_view_name": "HTMLView",
            "description": "",
            "description_tooltip": null,
            "layout": "IPY_MODEL_42e9d74704d34a06b5269ba769b7926f",
            "placeholder": "​",
            "style": "IPY_MODEL_7c65785a4f804fae998e81e59be0ac95",
            "value": " 28.0/28.0 [00:00&lt;00:00, 138B/s]"
          }
        },
        "12aeb161c8a5425589955930d566be9c": {
          "model_module": "@jupyter-widgets/base",
          "model_name": "LayoutModel",
          "model_module_version": "1.2.0",
          "state": {
            "_model_module": "@jupyter-widgets/base",
            "_model_module_version": "1.2.0",
            "_model_name": "LayoutModel",
            "_view_count": null,
            "_view_module": "@jupyter-widgets/base",
            "_view_module_version": "1.2.0",
            "_view_name": "LayoutView",
            "align_content": null,
            "align_items": null,
            "align_self": null,
            "border": null,
            "bottom": null,
            "display": null,
            "flex": null,
            "flex_flow": null,
            "grid_area": null,
            "grid_auto_columns": null,
            "grid_auto_flow": null,
            "grid_auto_rows": null,
            "grid_column": null,
            "grid_gap": null,
            "grid_row": null,
            "grid_template_areas": null,
            "grid_template_columns": null,
            "grid_template_rows": null,
            "height": null,
            "justify_content": null,
            "justify_items": null,
            "left": null,
            "margin": null,
            "max_height": null,
            "max_width": null,
            "min_height": null,
            "min_width": null,
            "object_fit": null,
            "object_position": null,
            "order": null,
            "overflow": null,
            "overflow_x": null,
            "overflow_y": null,
            "padding": null,
            "right": null,
            "top": null,
            "visibility": null,
            "width": null
          }
        },
        "e954d7da11a7435492fa4606adc1a250": {
          "model_module": "@jupyter-widgets/base",
          "model_name": "LayoutModel",
          "model_module_version": "1.2.0",
          "state": {
            "_model_module": "@jupyter-widgets/base",
            "_model_module_version": "1.2.0",
            "_model_name": "LayoutModel",
            "_view_count": null,
            "_view_module": "@jupyter-widgets/base",
            "_view_module_version": "1.2.0",
            "_view_name": "LayoutView",
            "align_content": null,
            "align_items": null,
            "align_self": null,
            "border": null,
            "bottom": null,
            "display": null,
            "flex": null,
            "flex_flow": null,
            "grid_area": null,
            "grid_auto_columns": null,
            "grid_auto_flow": null,
            "grid_auto_rows": null,
            "grid_column": null,
            "grid_gap": null,
            "grid_row": null,
            "grid_template_areas": null,
            "grid_template_columns": null,
            "grid_template_rows": null,
            "height": null,
            "justify_content": null,
            "justify_items": null,
            "left": null,
            "margin": null,
            "max_height": null,
            "max_width": null,
            "min_height": null,
            "min_width": null,
            "object_fit": null,
            "object_position": null,
            "order": null,
            "overflow": null,
            "overflow_x": null,
            "overflow_y": null,
            "padding": null,
            "right": null,
            "top": null,
            "visibility": null,
            "width": null
          }
        },
        "73923a62fbba4145b17eb58eaf78282f": {
          "model_module": "@jupyter-widgets/controls",
          "model_name": "DescriptionStyleModel",
          "model_module_version": "1.5.0",
          "state": {
            "_model_module": "@jupyter-widgets/controls",
            "_model_module_version": "1.5.0",
            "_model_name": "DescriptionStyleModel",
            "_view_count": null,
            "_view_module": "@jupyter-widgets/base",
            "_view_module_version": "1.2.0",
            "_view_name": "StyleView",
            "description_width": ""
          }
        },
        "ad83f50719d14fc08984f96fbcaec59a": {
          "model_module": "@jupyter-widgets/base",
          "model_name": "LayoutModel",
          "model_module_version": "1.2.0",
          "state": {
            "_model_module": "@jupyter-widgets/base",
            "_model_module_version": "1.2.0",
            "_model_name": "LayoutModel",
            "_view_count": null,
            "_view_module": "@jupyter-widgets/base",
            "_view_module_version": "1.2.0",
            "_view_name": "LayoutView",
            "align_content": null,
            "align_items": null,
            "align_self": null,
            "border": null,
            "bottom": null,
            "display": null,
            "flex": null,
            "flex_flow": null,
            "grid_area": null,
            "grid_auto_columns": null,
            "grid_auto_flow": null,
            "grid_auto_rows": null,
            "grid_column": null,
            "grid_gap": null,
            "grid_row": null,
            "grid_template_areas": null,
            "grid_template_columns": null,
            "grid_template_rows": null,
            "height": null,
            "justify_content": null,
            "justify_items": null,
            "left": null,
            "margin": null,
            "max_height": null,
            "max_width": null,
            "min_height": null,
            "min_width": null,
            "object_fit": null,
            "object_position": null,
            "order": null,
            "overflow": null,
            "overflow_x": null,
            "overflow_y": null,
            "padding": null,
            "right": null,
            "top": null,
            "visibility": null,
            "width": null
          }
        },
        "6563e34c056441e6ab08a543ad01e258": {
          "model_module": "@jupyter-widgets/controls",
          "model_name": "ProgressStyleModel",
          "model_module_version": "1.5.0",
          "state": {
            "_model_module": "@jupyter-widgets/controls",
            "_model_module_version": "1.5.0",
            "_model_name": "ProgressStyleModel",
            "_view_count": null,
            "_view_module": "@jupyter-widgets/base",
            "_view_module_version": "1.2.0",
            "_view_name": "StyleView",
            "bar_color": null,
            "description_width": ""
          }
        },
        "42e9d74704d34a06b5269ba769b7926f": {
          "model_module": "@jupyter-widgets/base",
          "model_name": "LayoutModel",
          "model_module_version": "1.2.0",
          "state": {
            "_model_module": "@jupyter-widgets/base",
            "_model_module_version": "1.2.0",
            "_model_name": "LayoutModel",
            "_view_count": null,
            "_view_module": "@jupyter-widgets/base",
            "_view_module_version": "1.2.0",
            "_view_name": "LayoutView",
            "align_content": null,
            "align_items": null,
            "align_self": null,
            "border": null,
            "bottom": null,
            "display": null,
            "flex": null,
            "flex_flow": null,
            "grid_area": null,
            "grid_auto_columns": null,
            "grid_auto_flow": null,
            "grid_auto_rows": null,
            "grid_column": null,
            "grid_gap": null,
            "grid_row": null,
            "grid_template_areas": null,
            "grid_template_columns": null,
            "grid_template_rows": null,
            "height": null,
            "justify_content": null,
            "justify_items": null,
            "left": null,
            "margin": null,
            "max_height": null,
            "max_width": null,
            "min_height": null,
            "min_width": null,
            "object_fit": null,
            "object_position": null,
            "order": null,
            "overflow": null,
            "overflow_x": null,
            "overflow_y": null,
            "padding": null,
            "right": null,
            "top": null,
            "visibility": null,
            "width": null
          }
        },
        "7c65785a4f804fae998e81e59be0ac95": {
          "model_module": "@jupyter-widgets/controls",
          "model_name": "DescriptionStyleModel",
          "model_module_version": "1.5.0",
          "state": {
            "_model_module": "@jupyter-widgets/controls",
            "_model_module_version": "1.5.0",
            "_model_name": "DescriptionStyleModel",
            "_view_count": null,
            "_view_module": "@jupyter-widgets/base",
            "_view_module_version": "1.2.0",
            "_view_name": "StyleView",
            "description_width": ""
          }
        },
        "627555dcaaed4f24a4aefc73387f8bbc": {
          "model_module": "@jupyter-widgets/controls",
          "model_name": "HBoxModel",
          "model_module_version": "1.5.0",
          "state": {
            "_dom_classes": [],
            "_model_module": "@jupyter-widgets/controls",
            "_model_module_version": "1.5.0",
            "_model_name": "HBoxModel",
            "_view_count": null,
            "_view_module": "@jupyter-widgets/controls",
            "_view_module_version": "1.5.0",
            "_view_name": "HBoxView",
            "box_style": "",
            "children": [
              "IPY_MODEL_20bcc0f54f344b7b9b6d709ef6dfa7e8",
              "IPY_MODEL_45ae62f3bceb4b8ebc0baf8aab7d5166",
              "IPY_MODEL_419ba61a8ddd42ea970d179d36179fd7"
            ],
            "layout": "IPY_MODEL_8c5c91ac74a84fe781463ea180b049f8"
          }
        },
        "20bcc0f54f344b7b9b6d709ef6dfa7e8": {
          "model_module": "@jupyter-widgets/controls",
          "model_name": "HTMLModel",
          "model_module_version": "1.5.0",
          "state": {
            "_dom_classes": [],
            "_model_module": "@jupyter-widgets/controls",
            "_model_module_version": "1.5.0",
            "_model_name": "HTMLModel",
            "_view_count": null,
            "_view_module": "@jupyter-widgets/controls",
            "_view_module_version": "1.5.0",
            "_view_name": "HTMLView",
            "description": "",
            "description_tooltip": null,
            "layout": "IPY_MODEL_322a1302d56243bbbdd98ea973df1e13",
            "placeholder": "​",
            "style": "IPY_MODEL_c46f1040a26f4cca9b7238f480ac3df4",
            "value": "Downloading: 100%"
          }
        },
        "45ae62f3bceb4b8ebc0baf8aab7d5166": {
          "model_module": "@jupyter-widgets/controls",
          "model_name": "FloatProgressModel",
          "model_module_version": "1.5.0",
          "state": {
            "_dom_classes": [],
            "_model_module": "@jupyter-widgets/controls",
            "_model_module_version": "1.5.0",
            "_model_name": "FloatProgressModel",
            "_view_count": null,
            "_view_module": "@jupyter-widgets/controls",
            "_view_module_version": "1.5.0",
            "_view_name": "ProgressView",
            "bar_style": "success",
            "description": "",
            "description_tooltip": null,
            "layout": "IPY_MODEL_184e70f572774cd18c6e21b9e8cc9fcf",
            "max": 483,
            "min": 0,
            "orientation": "horizontal",
            "style": "IPY_MODEL_bad98e9286f642e3927fd014d1c4a118",
            "value": 483
          }
        },
        "419ba61a8ddd42ea970d179d36179fd7": {
          "model_module": "@jupyter-widgets/controls",
          "model_name": "HTMLModel",
          "model_module_version": "1.5.0",
          "state": {
            "_dom_classes": [],
            "_model_module": "@jupyter-widgets/controls",
            "_model_module_version": "1.5.0",
            "_model_name": "HTMLModel",
            "_view_count": null,
            "_view_module": "@jupyter-widgets/controls",
            "_view_module_version": "1.5.0",
            "_view_name": "HTMLView",
            "description": "",
            "description_tooltip": null,
            "layout": "IPY_MODEL_5e6c0795f6fa486181bf47324a37227c",
            "placeholder": "​",
            "style": "IPY_MODEL_b0e94516d0de475592f5ebeff13dc0a7",
            "value": " 483/483 [00:00&lt;00:00, 3.10kB/s]"
          }
        },
        "8c5c91ac74a84fe781463ea180b049f8": {
          "model_module": "@jupyter-widgets/base",
          "model_name": "LayoutModel",
          "model_module_version": "1.2.0",
          "state": {
            "_model_module": "@jupyter-widgets/base",
            "_model_module_version": "1.2.0",
            "_model_name": "LayoutModel",
            "_view_count": null,
            "_view_module": "@jupyter-widgets/base",
            "_view_module_version": "1.2.0",
            "_view_name": "LayoutView",
            "align_content": null,
            "align_items": null,
            "align_self": null,
            "border": null,
            "bottom": null,
            "display": null,
            "flex": null,
            "flex_flow": null,
            "grid_area": null,
            "grid_auto_columns": null,
            "grid_auto_flow": null,
            "grid_auto_rows": null,
            "grid_column": null,
            "grid_gap": null,
            "grid_row": null,
            "grid_template_areas": null,
            "grid_template_columns": null,
            "grid_template_rows": null,
            "height": null,
            "justify_content": null,
            "justify_items": null,
            "left": null,
            "margin": null,
            "max_height": null,
            "max_width": null,
            "min_height": null,
            "min_width": null,
            "object_fit": null,
            "object_position": null,
            "order": null,
            "overflow": null,
            "overflow_x": null,
            "overflow_y": null,
            "padding": null,
            "right": null,
            "top": null,
            "visibility": null,
            "width": null
          }
        },
        "322a1302d56243bbbdd98ea973df1e13": {
          "model_module": "@jupyter-widgets/base",
          "model_name": "LayoutModel",
          "model_module_version": "1.2.0",
          "state": {
            "_model_module": "@jupyter-widgets/base",
            "_model_module_version": "1.2.0",
            "_model_name": "LayoutModel",
            "_view_count": null,
            "_view_module": "@jupyter-widgets/base",
            "_view_module_version": "1.2.0",
            "_view_name": "LayoutView",
            "align_content": null,
            "align_items": null,
            "align_self": null,
            "border": null,
            "bottom": null,
            "display": null,
            "flex": null,
            "flex_flow": null,
            "grid_area": null,
            "grid_auto_columns": null,
            "grid_auto_flow": null,
            "grid_auto_rows": null,
            "grid_column": null,
            "grid_gap": null,
            "grid_row": null,
            "grid_template_areas": null,
            "grid_template_columns": null,
            "grid_template_rows": null,
            "height": null,
            "justify_content": null,
            "justify_items": null,
            "left": null,
            "margin": null,
            "max_height": null,
            "max_width": null,
            "min_height": null,
            "min_width": null,
            "object_fit": null,
            "object_position": null,
            "order": null,
            "overflow": null,
            "overflow_x": null,
            "overflow_y": null,
            "padding": null,
            "right": null,
            "top": null,
            "visibility": null,
            "width": null
          }
        },
        "c46f1040a26f4cca9b7238f480ac3df4": {
          "model_module": "@jupyter-widgets/controls",
          "model_name": "DescriptionStyleModel",
          "model_module_version": "1.5.0",
          "state": {
            "_model_module": "@jupyter-widgets/controls",
            "_model_module_version": "1.5.0",
            "_model_name": "DescriptionStyleModel",
            "_view_count": null,
            "_view_module": "@jupyter-widgets/base",
            "_view_module_version": "1.2.0",
            "_view_name": "StyleView",
            "description_width": ""
          }
        },
        "184e70f572774cd18c6e21b9e8cc9fcf": {
          "model_module": "@jupyter-widgets/base",
          "model_name": "LayoutModel",
          "model_module_version": "1.2.0",
          "state": {
            "_model_module": "@jupyter-widgets/base",
            "_model_module_version": "1.2.0",
            "_model_name": "LayoutModel",
            "_view_count": null,
            "_view_module": "@jupyter-widgets/base",
            "_view_module_version": "1.2.0",
            "_view_name": "LayoutView",
            "align_content": null,
            "align_items": null,
            "align_self": null,
            "border": null,
            "bottom": null,
            "display": null,
            "flex": null,
            "flex_flow": null,
            "grid_area": null,
            "grid_auto_columns": null,
            "grid_auto_flow": null,
            "grid_auto_rows": null,
            "grid_column": null,
            "grid_gap": null,
            "grid_row": null,
            "grid_template_areas": null,
            "grid_template_columns": null,
            "grid_template_rows": null,
            "height": null,
            "justify_content": null,
            "justify_items": null,
            "left": null,
            "margin": null,
            "max_height": null,
            "max_width": null,
            "min_height": null,
            "min_width": null,
            "object_fit": null,
            "object_position": null,
            "order": null,
            "overflow": null,
            "overflow_x": null,
            "overflow_y": null,
            "padding": null,
            "right": null,
            "top": null,
            "visibility": null,
            "width": null
          }
        },
        "bad98e9286f642e3927fd014d1c4a118": {
          "model_module": "@jupyter-widgets/controls",
          "model_name": "ProgressStyleModel",
          "model_module_version": "1.5.0",
          "state": {
            "_model_module": "@jupyter-widgets/controls",
            "_model_module_version": "1.5.0",
            "_model_name": "ProgressStyleModel",
            "_view_count": null,
            "_view_module": "@jupyter-widgets/base",
            "_view_module_version": "1.2.0",
            "_view_name": "StyleView",
            "bar_color": null,
            "description_width": ""
          }
        },
        "5e6c0795f6fa486181bf47324a37227c": {
          "model_module": "@jupyter-widgets/base",
          "model_name": "LayoutModel",
          "model_module_version": "1.2.0",
          "state": {
            "_model_module": "@jupyter-widgets/base",
            "_model_module_version": "1.2.0",
            "_model_name": "LayoutModel",
            "_view_count": null,
            "_view_module": "@jupyter-widgets/base",
            "_view_module_version": "1.2.0",
            "_view_name": "LayoutView",
            "align_content": null,
            "align_items": null,
            "align_self": null,
            "border": null,
            "bottom": null,
            "display": null,
            "flex": null,
            "flex_flow": null,
            "grid_area": null,
            "grid_auto_columns": null,
            "grid_auto_flow": null,
            "grid_auto_rows": null,
            "grid_column": null,
            "grid_gap": null,
            "grid_row": null,
            "grid_template_areas": null,
            "grid_template_columns": null,
            "grid_template_rows": null,
            "height": null,
            "justify_content": null,
            "justify_items": null,
            "left": null,
            "margin": null,
            "max_height": null,
            "max_width": null,
            "min_height": null,
            "min_width": null,
            "object_fit": null,
            "object_position": null,
            "order": null,
            "overflow": null,
            "overflow_x": null,
            "overflow_y": null,
            "padding": null,
            "right": null,
            "top": null,
            "visibility": null,
            "width": null
          }
        },
        "b0e94516d0de475592f5ebeff13dc0a7": {
          "model_module": "@jupyter-widgets/controls",
          "model_name": "DescriptionStyleModel",
          "model_module_version": "1.5.0",
          "state": {
            "_model_module": "@jupyter-widgets/controls",
            "_model_module_version": "1.5.0",
            "_model_name": "DescriptionStyleModel",
            "_view_count": null,
            "_view_module": "@jupyter-widgets/base",
            "_view_module_version": "1.2.0",
            "_view_name": "StyleView",
            "description_width": ""
          }
        },
        "6ce6cf9df75d4fb0805a05c6da3e9af5": {
          "model_module": "@jupyter-widgets/controls",
          "model_name": "HBoxModel",
          "model_module_version": "1.5.0",
          "state": {
            "_dom_classes": [],
            "_model_module": "@jupyter-widgets/controls",
            "_model_module_version": "1.5.0",
            "_model_name": "HBoxModel",
            "_view_count": null,
            "_view_module": "@jupyter-widgets/controls",
            "_view_module_version": "1.5.0",
            "_view_name": "HBoxView",
            "box_style": "",
            "children": [
              "IPY_MODEL_a76d4c623ec64e4b8eee24f4da2e0be3",
              "IPY_MODEL_1a5720be60c449408cf1393b02de9bc0",
              "IPY_MODEL_07af687df5054e34b14a9ba4d3d69b23"
            ],
            "layout": "IPY_MODEL_fb9bc6156da94b1dad59c77b24b66941"
          }
        },
        "a76d4c623ec64e4b8eee24f4da2e0be3": {
          "model_module": "@jupyter-widgets/controls",
          "model_name": "HTMLModel",
          "model_module_version": "1.5.0",
          "state": {
            "_dom_classes": [],
            "_model_module": "@jupyter-widgets/controls",
            "_model_module_version": "1.5.0",
            "_model_name": "HTMLModel",
            "_view_count": null,
            "_view_module": "@jupyter-widgets/controls",
            "_view_module_version": "1.5.0",
            "_view_name": "HTMLView",
            "description": "",
            "description_tooltip": null,
            "layout": "IPY_MODEL_d06aff69eaa24352bce47890f6fb4cd2",
            "placeholder": "​",
            "style": "IPY_MODEL_a423d36a4e4841f4989e574870ce5f90",
            "value": "Downloading: 100%"
          }
        },
        "1a5720be60c449408cf1393b02de9bc0": {
          "model_module": "@jupyter-widgets/controls",
          "model_name": "FloatProgressModel",
          "model_module_version": "1.5.0",
          "state": {
            "_dom_classes": [],
            "_model_module": "@jupyter-widgets/controls",
            "_model_module_version": "1.5.0",
            "_model_name": "FloatProgressModel",
            "_view_count": null,
            "_view_module": "@jupyter-widgets/controls",
            "_view_module_version": "1.5.0",
            "_view_name": "ProgressView",
            "bar_style": "success",
            "description": "",
            "description_tooltip": null,
            "layout": "IPY_MODEL_1e5daa3b394142cbb4d7fb6be8e3bc00",
            "max": 231508,
            "min": 0,
            "orientation": "horizontal",
            "style": "IPY_MODEL_d3f0f4c7c11847e4924651ac8b6857bd",
            "value": 231508
          }
        },
        "07af687df5054e34b14a9ba4d3d69b23": {
          "model_module": "@jupyter-widgets/controls",
          "model_name": "HTMLModel",
          "model_module_version": "1.5.0",
          "state": {
            "_dom_classes": [],
            "_model_module": "@jupyter-widgets/controls",
            "_model_module_version": "1.5.0",
            "_model_name": "HTMLModel",
            "_view_count": null,
            "_view_module": "@jupyter-widgets/controls",
            "_view_module_version": "1.5.0",
            "_view_name": "HTMLView",
            "description": "",
            "description_tooltip": null,
            "layout": "IPY_MODEL_4380a974fb6e4bc799aff5970cdc8783",
            "placeholder": "​",
            "style": "IPY_MODEL_09f7a063beb0428c820cb54fdb98e23d",
            "value": " 226k/226k [00:00&lt;00:00, 597kB/s]"
          }
        },
        "fb9bc6156da94b1dad59c77b24b66941": {
          "model_module": "@jupyter-widgets/base",
          "model_name": "LayoutModel",
          "model_module_version": "1.2.0",
          "state": {
            "_model_module": "@jupyter-widgets/base",
            "_model_module_version": "1.2.0",
            "_model_name": "LayoutModel",
            "_view_count": null,
            "_view_module": "@jupyter-widgets/base",
            "_view_module_version": "1.2.0",
            "_view_name": "LayoutView",
            "align_content": null,
            "align_items": null,
            "align_self": null,
            "border": null,
            "bottom": null,
            "display": null,
            "flex": null,
            "flex_flow": null,
            "grid_area": null,
            "grid_auto_columns": null,
            "grid_auto_flow": null,
            "grid_auto_rows": null,
            "grid_column": null,
            "grid_gap": null,
            "grid_row": null,
            "grid_template_areas": null,
            "grid_template_columns": null,
            "grid_template_rows": null,
            "height": null,
            "justify_content": null,
            "justify_items": null,
            "left": null,
            "margin": null,
            "max_height": null,
            "max_width": null,
            "min_height": null,
            "min_width": null,
            "object_fit": null,
            "object_position": null,
            "order": null,
            "overflow": null,
            "overflow_x": null,
            "overflow_y": null,
            "padding": null,
            "right": null,
            "top": null,
            "visibility": null,
            "width": null
          }
        },
        "d06aff69eaa24352bce47890f6fb4cd2": {
          "model_module": "@jupyter-widgets/base",
          "model_name": "LayoutModel",
          "model_module_version": "1.2.0",
          "state": {
            "_model_module": "@jupyter-widgets/base",
            "_model_module_version": "1.2.0",
            "_model_name": "LayoutModel",
            "_view_count": null,
            "_view_module": "@jupyter-widgets/base",
            "_view_module_version": "1.2.0",
            "_view_name": "LayoutView",
            "align_content": null,
            "align_items": null,
            "align_self": null,
            "border": null,
            "bottom": null,
            "display": null,
            "flex": null,
            "flex_flow": null,
            "grid_area": null,
            "grid_auto_columns": null,
            "grid_auto_flow": null,
            "grid_auto_rows": null,
            "grid_column": null,
            "grid_gap": null,
            "grid_row": null,
            "grid_template_areas": null,
            "grid_template_columns": null,
            "grid_template_rows": null,
            "height": null,
            "justify_content": null,
            "justify_items": null,
            "left": null,
            "margin": null,
            "max_height": null,
            "max_width": null,
            "min_height": null,
            "min_width": null,
            "object_fit": null,
            "object_position": null,
            "order": null,
            "overflow": null,
            "overflow_x": null,
            "overflow_y": null,
            "padding": null,
            "right": null,
            "top": null,
            "visibility": null,
            "width": null
          }
        },
        "a423d36a4e4841f4989e574870ce5f90": {
          "model_module": "@jupyter-widgets/controls",
          "model_name": "DescriptionStyleModel",
          "model_module_version": "1.5.0",
          "state": {
            "_model_module": "@jupyter-widgets/controls",
            "_model_module_version": "1.5.0",
            "_model_name": "DescriptionStyleModel",
            "_view_count": null,
            "_view_module": "@jupyter-widgets/base",
            "_view_module_version": "1.2.0",
            "_view_name": "StyleView",
            "description_width": ""
          }
        },
        "1e5daa3b394142cbb4d7fb6be8e3bc00": {
          "model_module": "@jupyter-widgets/base",
          "model_name": "LayoutModel",
          "model_module_version": "1.2.0",
          "state": {
            "_model_module": "@jupyter-widgets/base",
            "_model_module_version": "1.2.0",
            "_model_name": "LayoutModel",
            "_view_count": null,
            "_view_module": "@jupyter-widgets/base",
            "_view_module_version": "1.2.0",
            "_view_name": "LayoutView",
            "align_content": null,
            "align_items": null,
            "align_self": null,
            "border": null,
            "bottom": null,
            "display": null,
            "flex": null,
            "flex_flow": null,
            "grid_area": null,
            "grid_auto_columns": null,
            "grid_auto_flow": null,
            "grid_auto_rows": null,
            "grid_column": null,
            "grid_gap": null,
            "grid_row": null,
            "grid_template_areas": null,
            "grid_template_columns": null,
            "grid_template_rows": null,
            "height": null,
            "justify_content": null,
            "justify_items": null,
            "left": null,
            "margin": null,
            "max_height": null,
            "max_width": null,
            "min_height": null,
            "min_width": null,
            "object_fit": null,
            "object_position": null,
            "order": null,
            "overflow": null,
            "overflow_x": null,
            "overflow_y": null,
            "padding": null,
            "right": null,
            "top": null,
            "visibility": null,
            "width": null
          }
        },
        "d3f0f4c7c11847e4924651ac8b6857bd": {
          "model_module": "@jupyter-widgets/controls",
          "model_name": "ProgressStyleModel",
          "model_module_version": "1.5.0",
          "state": {
            "_model_module": "@jupyter-widgets/controls",
            "_model_module_version": "1.5.0",
            "_model_name": "ProgressStyleModel",
            "_view_count": null,
            "_view_module": "@jupyter-widgets/base",
            "_view_module_version": "1.2.0",
            "_view_name": "StyleView",
            "bar_color": null,
            "description_width": ""
          }
        },
        "4380a974fb6e4bc799aff5970cdc8783": {
          "model_module": "@jupyter-widgets/base",
          "model_name": "LayoutModel",
          "model_module_version": "1.2.0",
          "state": {
            "_model_module": "@jupyter-widgets/base",
            "_model_module_version": "1.2.0",
            "_model_name": "LayoutModel",
            "_view_count": null,
            "_view_module": "@jupyter-widgets/base",
            "_view_module_version": "1.2.0",
            "_view_name": "LayoutView",
            "align_content": null,
            "align_items": null,
            "align_self": null,
            "border": null,
            "bottom": null,
            "display": null,
            "flex": null,
            "flex_flow": null,
            "grid_area": null,
            "grid_auto_columns": null,
            "grid_auto_flow": null,
            "grid_auto_rows": null,
            "grid_column": null,
            "grid_gap": null,
            "grid_row": null,
            "grid_template_areas": null,
            "grid_template_columns": null,
            "grid_template_rows": null,
            "height": null,
            "justify_content": null,
            "justify_items": null,
            "left": null,
            "margin": null,
            "max_height": null,
            "max_width": null,
            "min_height": null,
            "min_width": null,
            "object_fit": null,
            "object_position": null,
            "order": null,
            "overflow": null,
            "overflow_x": null,
            "overflow_y": null,
            "padding": null,
            "right": null,
            "top": null,
            "visibility": null,
            "width": null
          }
        },
        "09f7a063beb0428c820cb54fdb98e23d": {
          "model_module": "@jupyter-widgets/controls",
          "model_name": "DescriptionStyleModel",
          "model_module_version": "1.5.0",
          "state": {
            "_model_module": "@jupyter-widgets/controls",
            "_model_module_version": "1.5.0",
            "_model_name": "DescriptionStyleModel",
            "_view_count": null,
            "_view_module": "@jupyter-widgets/base",
            "_view_module_version": "1.2.0",
            "_view_name": "StyleView",
            "description_width": ""
          }
        },
        "b258f4c04b9e4e3e851849ef298edc1e": {
          "model_module": "@jupyter-widgets/controls",
          "model_name": "HBoxModel",
          "model_module_version": "1.5.0",
          "state": {
            "_dom_classes": [],
            "_model_module": "@jupyter-widgets/controls",
            "_model_module_version": "1.5.0",
            "_model_name": "HBoxModel",
            "_view_count": null,
            "_view_module": "@jupyter-widgets/controls",
            "_view_module_version": "1.5.0",
            "_view_name": "HBoxView",
            "box_style": "",
            "children": [
              "IPY_MODEL_2796763b8f9f4b8cb41f14543acbceb5",
              "IPY_MODEL_609b64faee584284a63c4be889953b2e",
              "IPY_MODEL_5c158a825f1f46398f26464e02eb4817"
            ],
            "layout": "IPY_MODEL_d2cd5a6616ce4ee1a23d1cfa81fe01f9"
          }
        },
        "2796763b8f9f4b8cb41f14543acbceb5": {
          "model_module": "@jupyter-widgets/controls",
          "model_name": "HTMLModel",
          "model_module_version": "1.5.0",
          "state": {
            "_dom_classes": [],
            "_model_module": "@jupyter-widgets/controls",
            "_model_module_version": "1.5.0",
            "_model_name": "HTMLModel",
            "_view_count": null,
            "_view_module": "@jupyter-widgets/controls",
            "_view_module_version": "1.5.0",
            "_view_name": "HTMLView",
            "description": "",
            "description_tooltip": null,
            "layout": "IPY_MODEL_716540e1ae7a44f9987dda0f8c48aa93",
            "placeholder": "​",
            "style": "IPY_MODEL_97d8182f0d39428f882b492b31890446",
            "value": "Downloading: 100%"
          }
        },
        "609b64faee584284a63c4be889953b2e": {
          "model_module": "@jupyter-widgets/controls",
          "model_name": "FloatProgressModel",
          "model_module_version": "1.5.0",
          "state": {
            "_dom_classes": [],
            "_model_module": "@jupyter-widgets/controls",
            "_model_module_version": "1.5.0",
            "_model_name": "FloatProgressModel",
            "_view_count": null,
            "_view_module": "@jupyter-widgets/controls",
            "_view_module_version": "1.5.0",
            "_view_name": "ProgressView",
            "bar_style": "success",
            "description": "",
            "description_tooltip": null,
            "layout": "IPY_MODEL_547f5bfd8779404ca0fc6be9334d855b",
            "max": 466062,
            "min": 0,
            "orientation": "horizontal",
            "style": "IPY_MODEL_aa2ecbfa2ab6441aa03c8bea203c7fea",
            "value": 466062
          }
        },
        "5c158a825f1f46398f26464e02eb4817": {
          "model_module": "@jupyter-widgets/controls",
          "model_name": "HTMLModel",
          "model_module_version": "1.5.0",
          "state": {
            "_dom_classes": [],
            "_model_module": "@jupyter-widgets/controls",
            "_model_module_version": "1.5.0",
            "_model_name": "HTMLModel",
            "_view_count": null,
            "_view_module": "@jupyter-widgets/controls",
            "_view_module_version": "1.5.0",
            "_view_name": "HTMLView",
            "description": "",
            "description_tooltip": null,
            "layout": "IPY_MODEL_859cf3a0e2964b369a9a7b856a41091a",
            "placeholder": "​",
            "style": "IPY_MODEL_370e7c30913243e7b273268ebad4bf71",
            "value": " 455k/455k [00:00&lt;00:00, 1.17MB/s]"
          }
        },
        "d2cd5a6616ce4ee1a23d1cfa81fe01f9": {
          "model_module": "@jupyter-widgets/base",
          "model_name": "LayoutModel",
          "model_module_version": "1.2.0",
          "state": {
            "_model_module": "@jupyter-widgets/base",
            "_model_module_version": "1.2.0",
            "_model_name": "LayoutModel",
            "_view_count": null,
            "_view_module": "@jupyter-widgets/base",
            "_view_module_version": "1.2.0",
            "_view_name": "LayoutView",
            "align_content": null,
            "align_items": null,
            "align_self": null,
            "border": null,
            "bottom": null,
            "display": null,
            "flex": null,
            "flex_flow": null,
            "grid_area": null,
            "grid_auto_columns": null,
            "grid_auto_flow": null,
            "grid_auto_rows": null,
            "grid_column": null,
            "grid_gap": null,
            "grid_row": null,
            "grid_template_areas": null,
            "grid_template_columns": null,
            "grid_template_rows": null,
            "height": null,
            "justify_content": null,
            "justify_items": null,
            "left": null,
            "margin": null,
            "max_height": null,
            "max_width": null,
            "min_height": null,
            "min_width": null,
            "object_fit": null,
            "object_position": null,
            "order": null,
            "overflow": null,
            "overflow_x": null,
            "overflow_y": null,
            "padding": null,
            "right": null,
            "top": null,
            "visibility": null,
            "width": null
          }
        },
        "716540e1ae7a44f9987dda0f8c48aa93": {
          "model_module": "@jupyter-widgets/base",
          "model_name": "LayoutModel",
          "model_module_version": "1.2.0",
          "state": {
            "_model_module": "@jupyter-widgets/base",
            "_model_module_version": "1.2.0",
            "_model_name": "LayoutModel",
            "_view_count": null,
            "_view_module": "@jupyter-widgets/base",
            "_view_module_version": "1.2.0",
            "_view_name": "LayoutView",
            "align_content": null,
            "align_items": null,
            "align_self": null,
            "border": null,
            "bottom": null,
            "display": null,
            "flex": null,
            "flex_flow": null,
            "grid_area": null,
            "grid_auto_columns": null,
            "grid_auto_flow": null,
            "grid_auto_rows": null,
            "grid_column": null,
            "grid_gap": null,
            "grid_row": null,
            "grid_template_areas": null,
            "grid_template_columns": null,
            "grid_template_rows": null,
            "height": null,
            "justify_content": null,
            "justify_items": null,
            "left": null,
            "margin": null,
            "max_height": null,
            "max_width": null,
            "min_height": null,
            "min_width": null,
            "object_fit": null,
            "object_position": null,
            "order": null,
            "overflow": null,
            "overflow_x": null,
            "overflow_y": null,
            "padding": null,
            "right": null,
            "top": null,
            "visibility": null,
            "width": null
          }
        },
        "97d8182f0d39428f882b492b31890446": {
          "model_module": "@jupyter-widgets/controls",
          "model_name": "DescriptionStyleModel",
          "model_module_version": "1.5.0",
          "state": {
            "_model_module": "@jupyter-widgets/controls",
            "_model_module_version": "1.5.0",
            "_model_name": "DescriptionStyleModel",
            "_view_count": null,
            "_view_module": "@jupyter-widgets/base",
            "_view_module_version": "1.2.0",
            "_view_name": "StyleView",
            "description_width": ""
          }
        },
        "547f5bfd8779404ca0fc6be9334d855b": {
          "model_module": "@jupyter-widgets/base",
          "model_name": "LayoutModel",
          "model_module_version": "1.2.0",
          "state": {
            "_model_module": "@jupyter-widgets/base",
            "_model_module_version": "1.2.0",
            "_model_name": "LayoutModel",
            "_view_count": null,
            "_view_module": "@jupyter-widgets/base",
            "_view_module_version": "1.2.0",
            "_view_name": "LayoutView",
            "align_content": null,
            "align_items": null,
            "align_self": null,
            "border": null,
            "bottom": null,
            "display": null,
            "flex": null,
            "flex_flow": null,
            "grid_area": null,
            "grid_auto_columns": null,
            "grid_auto_flow": null,
            "grid_auto_rows": null,
            "grid_column": null,
            "grid_gap": null,
            "grid_row": null,
            "grid_template_areas": null,
            "grid_template_columns": null,
            "grid_template_rows": null,
            "height": null,
            "justify_content": null,
            "justify_items": null,
            "left": null,
            "margin": null,
            "max_height": null,
            "max_width": null,
            "min_height": null,
            "min_width": null,
            "object_fit": null,
            "object_position": null,
            "order": null,
            "overflow": null,
            "overflow_x": null,
            "overflow_y": null,
            "padding": null,
            "right": null,
            "top": null,
            "visibility": null,
            "width": null
          }
        },
        "aa2ecbfa2ab6441aa03c8bea203c7fea": {
          "model_module": "@jupyter-widgets/controls",
          "model_name": "ProgressStyleModel",
          "model_module_version": "1.5.0",
          "state": {
            "_model_module": "@jupyter-widgets/controls",
            "_model_module_version": "1.5.0",
            "_model_name": "ProgressStyleModel",
            "_view_count": null,
            "_view_module": "@jupyter-widgets/base",
            "_view_module_version": "1.2.0",
            "_view_name": "StyleView",
            "bar_color": null,
            "description_width": ""
          }
        },
        "859cf3a0e2964b369a9a7b856a41091a": {
          "model_module": "@jupyter-widgets/base",
          "model_name": "LayoutModel",
          "model_module_version": "1.2.0",
          "state": {
            "_model_module": "@jupyter-widgets/base",
            "_model_module_version": "1.2.0",
            "_model_name": "LayoutModel",
            "_view_count": null,
            "_view_module": "@jupyter-widgets/base",
            "_view_module_version": "1.2.0",
            "_view_name": "LayoutView",
            "align_content": null,
            "align_items": null,
            "align_self": null,
            "border": null,
            "bottom": null,
            "display": null,
            "flex": null,
            "flex_flow": null,
            "grid_area": null,
            "grid_auto_columns": null,
            "grid_auto_flow": null,
            "grid_auto_rows": null,
            "grid_column": null,
            "grid_gap": null,
            "grid_row": null,
            "grid_template_areas": null,
            "grid_template_columns": null,
            "grid_template_rows": null,
            "height": null,
            "justify_content": null,
            "justify_items": null,
            "left": null,
            "margin": null,
            "max_height": null,
            "max_width": null,
            "min_height": null,
            "min_width": null,
            "object_fit": null,
            "object_position": null,
            "order": null,
            "overflow": null,
            "overflow_x": null,
            "overflow_y": null,
            "padding": null,
            "right": null,
            "top": null,
            "visibility": null,
            "width": null
          }
        },
        "370e7c30913243e7b273268ebad4bf71": {
          "model_module": "@jupyter-widgets/controls",
          "model_name": "DescriptionStyleModel",
          "model_module_version": "1.5.0",
          "state": {
            "_model_module": "@jupyter-widgets/controls",
            "_model_module_version": "1.5.0",
            "_model_name": "DescriptionStyleModel",
            "_view_count": null,
            "_view_module": "@jupyter-widgets/base",
            "_view_module_version": "1.2.0",
            "_view_name": "StyleView",
            "description_width": ""
          }
        },
        "eeef0c4b71a3460cb0f5aeeb1fb8e686": {
          "model_module": "@jupyter-widgets/controls",
          "model_name": "HBoxModel",
          "model_module_version": "1.5.0",
          "state": {
            "_dom_classes": [],
            "_model_module": "@jupyter-widgets/controls",
            "_model_module_version": "1.5.0",
            "_model_name": "HBoxModel",
            "_view_count": null,
            "_view_module": "@jupyter-widgets/controls",
            "_view_module_version": "1.5.0",
            "_view_name": "HBoxView",
            "box_style": "",
            "children": [
              "IPY_MODEL_6f81757468ca473aa562d54bbac4f6a9",
              "IPY_MODEL_f82892ee6e3c41f182b9eb9882b0dffd",
              "IPY_MODEL_f23348b587954195aa7a7da11cc22067"
            ],
            "layout": "IPY_MODEL_cb3d5bb8ac8e49ffac0a0fa7162c2623"
          }
        },
        "6f81757468ca473aa562d54bbac4f6a9": {
          "model_module": "@jupyter-widgets/controls",
          "model_name": "HTMLModel",
          "model_module_version": "1.5.0",
          "state": {
            "_dom_classes": [],
            "_model_module": "@jupyter-widgets/controls",
            "_model_module_version": "1.5.0",
            "_model_name": "HTMLModel",
            "_view_count": null,
            "_view_module": "@jupyter-widgets/controls",
            "_view_module_version": "1.5.0",
            "_view_name": "HTMLView",
            "description": "",
            "description_tooltip": null,
            "layout": "IPY_MODEL_8d6940f0c9824d63b9584470615472e2",
            "placeholder": "​",
            "style": "IPY_MODEL_412ed9c1f40348428ae12264bbdaae25",
            "value": "Downloading: 100%"
          }
        },
        "f82892ee6e3c41f182b9eb9882b0dffd": {
          "model_module": "@jupyter-widgets/controls",
          "model_name": "FloatProgressModel",
          "model_module_version": "1.5.0",
          "state": {
            "_dom_classes": [],
            "_model_module": "@jupyter-widgets/controls",
            "_model_module_version": "1.5.0",
            "_model_name": "FloatProgressModel",
            "_view_count": null,
            "_view_module": "@jupyter-widgets/controls",
            "_view_module_version": "1.5.0",
            "_view_name": "ProgressView",
            "bar_style": "success",
            "description": "",
            "description_tooltip": null,
            "layout": "IPY_MODEL_a86b9895f0644453b0e1c58b5fd29395",
            "max": 267967963,
            "min": 0,
            "orientation": "horizontal",
            "style": "IPY_MODEL_d198343a19f844e694adec8872aecacc",
            "value": 267967963
          }
        },
        "f23348b587954195aa7a7da11cc22067": {
          "model_module": "@jupyter-widgets/controls",
          "model_name": "HTMLModel",
          "model_module_version": "1.5.0",
          "state": {
            "_dom_classes": [],
            "_model_module": "@jupyter-widgets/controls",
            "_model_module_version": "1.5.0",
            "_model_name": "HTMLModel",
            "_view_count": null,
            "_view_module": "@jupyter-widgets/controls",
            "_view_module_version": "1.5.0",
            "_view_name": "HTMLView",
            "description": "",
            "description_tooltip": null,
            "layout": "IPY_MODEL_1d6a817198a44f77923ea522d6050ae2",
            "placeholder": "​",
            "style": "IPY_MODEL_becf6f4f68dc42798e85507a1cdd7000",
            "value": " 256M/256M [00:06&lt;00:00, 42.7MB/s]"
          }
        },
        "cb3d5bb8ac8e49ffac0a0fa7162c2623": {
          "model_module": "@jupyter-widgets/base",
          "model_name": "LayoutModel",
          "model_module_version": "1.2.0",
          "state": {
            "_model_module": "@jupyter-widgets/base",
            "_model_module_version": "1.2.0",
            "_model_name": "LayoutModel",
            "_view_count": null,
            "_view_module": "@jupyter-widgets/base",
            "_view_module_version": "1.2.0",
            "_view_name": "LayoutView",
            "align_content": null,
            "align_items": null,
            "align_self": null,
            "border": null,
            "bottom": null,
            "display": null,
            "flex": null,
            "flex_flow": null,
            "grid_area": null,
            "grid_auto_columns": null,
            "grid_auto_flow": null,
            "grid_auto_rows": null,
            "grid_column": null,
            "grid_gap": null,
            "grid_row": null,
            "grid_template_areas": null,
            "grid_template_columns": null,
            "grid_template_rows": null,
            "height": null,
            "justify_content": null,
            "justify_items": null,
            "left": null,
            "margin": null,
            "max_height": null,
            "max_width": null,
            "min_height": null,
            "min_width": null,
            "object_fit": null,
            "object_position": null,
            "order": null,
            "overflow": null,
            "overflow_x": null,
            "overflow_y": null,
            "padding": null,
            "right": null,
            "top": null,
            "visibility": null,
            "width": null
          }
        },
        "8d6940f0c9824d63b9584470615472e2": {
          "model_module": "@jupyter-widgets/base",
          "model_name": "LayoutModel",
          "model_module_version": "1.2.0",
          "state": {
            "_model_module": "@jupyter-widgets/base",
            "_model_module_version": "1.2.0",
            "_model_name": "LayoutModel",
            "_view_count": null,
            "_view_module": "@jupyter-widgets/base",
            "_view_module_version": "1.2.0",
            "_view_name": "LayoutView",
            "align_content": null,
            "align_items": null,
            "align_self": null,
            "border": null,
            "bottom": null,
            "display": null,
            "flex": null,
            "flex_flow": null,
            "grid_area": null,
            "grid_auto_columns": null,
            "grid_auto_flow": null,
            "grid_auto_rows": null,
            "grid_column": null,
            "grid_gap": null,
            "grid_row": null,
            "grid_template_areas": null,
            "grid_template_columns": null,
            "grid_template_rows": null,
            "height": null,
            "justify_content": null,
            "justify_items": null,
            "left": null,
            "margin": null,
            "max_height": null,
            "max_width": null,
            "min_height": null,
            "min_width": null,
            "object_fit": null,
            "object_position": null,
            "order": null,
            "overflow": null,
            "overflow_x": null,
            "overflow_y": null,
            "padding": null,
            "right": null,
            "top": null,
            "visibility": null,
            "width": null
          }
        },
        "412ed9c1f40348428ae12264bbdaae25": {
          "model_module": "@jupyter-widgets/controls",
          "model_name": "DescriptionStyleModel",
          "model_module_version": "1.5.0",
          "state": {
            "_model_module": "@jupyter-widgets/controls",
            "_model_module_version": "1.5.0",
            "_model_name": "DescriptionStyleModel",
            "_view_count": null,
            "_view_module": "@jupyter-widgets/base",
            "_view_module_version": "1.2.0",
            "_view_name": "StyleView",
            "description_width": ""
          }
        },
        "a86b9895f0644453b0e1c58b5fd29395": {
          "model_module": "@jupyter-widgets/base",
          "model_name": "LayoutModel",
          "model_module_version": "1.2.0",
          "state": {
            "_model_module": "@jupyter-widgets/base",
            "_model_module_version": "1.2.0",
            "_model_name": "LayoutModel",
            "_view_count": null,
            "_view_module": "@jupyter-widgets/base",
            "_view_module_version": "1.2.0",
            "_view_name": "LayoutView",
            "align_content": null,
            "align_items": null,
            "align_self": null,
            "border": null,
            "bottom": null,
            "display": null,
            "flex": null,
            "flex_flow": null,
            "grid_area": null,
            "grid_auto_columns": null,
            "grid_auto_flow": null,
            "grid_auto_rows": null,
            "grid_column": null,
            "grid_gap": null,
            "grid_row": null,
            "grid_template_areas": null,
            "grid_template_columns": null,
            "grid_template_rows": null,
            "height": null,
            "justify_content": null,
            "justify_items": null,
            "left": null,
            "margin": null,
            "max_height": null,
            "max_width": null,
            "min_height": null,
            "min_width": null,
            "object_fit": null,
            "object_position": null,
            "order": null,
            "overflow": null,
            "overflow_x": null,
            "overflow_y": null,
            "padding": null,
            "right": null,
            "top": null,
            "visibility": null,
            "width": null
          }
        },
        "d198343a19f844e694adec8872aecacc": {
          "model_module": "@jupyter-widgets/controls",
          "model_name": "ProgressStyleModel",
          "model_module_version": "1.5.0",
          "state": {
            "_model_module": "@jupyter-widgets/controls",
            "_model_module_version": "1.5.0",
            "_model_name": "ProgressStyleModel",
            "_view_count": null,
            "_view_module": "@jupyter-widgets/base",
            "_view_module_version": "1.2.0",
            "_view_name": "StyleView",
            "bar_color": null,
            "description_width": ""
          }
        },
        "1d6a817198a44f77923ea522d6050ae2": {
          "model_module": "@jupyter-widgets/base",
          "model_name": "LayoutModel",
          "model_module_version": "1.2.0",
          "state": {
            "_model_module": "@jupyter-widgets/base",
            "_model_module_version": "1.2.0",
            "_model_name": "LayoutModel",
            "_view_count": null,
            "_view_module": "@jupyter-widgets/base",
            "_view_module_version": "1.2.0",
            "_view_name": "LayoutView",
            "align_content": null,
            "align_items": null,
            "align_self": null,
            "border": null,
            "bottom": null,
            "display": null,
            "flex": null,
            "flex_flow": null,
            "grid_area": null,
            "grid_auto_columns": null,
            "grid_auto_flow": null,
            "grid_auto_rows": null,
            "grid_column": null,
            "grid_gap": null,
            "grid_row": null,
            "grid_template_areas": null,
            "grid_template_columns": null,
            "grid_template_rows": null,
            "height": null,
            "justify_content": null,
            "justify_items": null,
            "left": null,
            "margin": null,
            "max_height": null,
            "max_width": null,
            "min_height": null,
            "min_width": null,
            "object_fit": null,
            "object_position": null,
            "order": null,
            "overflow": null,
            "overflow_x": null,
            "overflow_y": null,
            "padding": null,
            "right": null,
            "top": null,
            "visibility": null,
            "width": null
          }
        },
        "becf6f4f68dc42798e85507a1cdd7000": {
          "model_module": "@jupyter-widgets/controls",
          "model_name": "DescriptionStyleModel",
          "model_module_version": "1.5.0",
          "state": {
            "_model_module": "@jupyter-widgets/controls",
            "_model_module_version": "1.5.0",
            "_model_name": "DescriptionStyleModel",
            "_view_count": null,
            "_view_module": "@jupyter-widgets/base",
            "_view_module_version": "1.2.0",
            "_view_name": "StyleView",
            "description_width": ""
          }
        }
      }
    }
  },
  "cells": [
    {
      "cell_type": "markdown",
      "metadata": {
        "id": "view-in-github",
        "colab_type": "text"
      },
      "source": [
        "<a href=\"https://colab.research.google.com/github/ShadmanRohan/huggingface-boilerplates/blob/main/datasets.ipynb\" target=\"_parent\"><img src=\"https://colab.research.google.com/assets/colab-badge.svg\" alt=\"Open In Colab\"/></a>"
      ]
    },
    {
      "cell_type": "code",
      "execution_count": null,
      "metadata": {
        "id": "ZiYrn8aOn4tv",
        "colab": {
          "base_uri": "https://localhost:8080/"
        },
        "outputId": "d9c53d96-4c7f-4aee-ecab-8a8d935db5c5"
      },
      "outputs": [
        {
          "output_type": "stream",
          "name": "stdout",
          "text": [
            "Requirement already satisfied: datasets in /usr/local/lib/python3.7/dist-packages (2.0.0)\n",
            "Requirement already satisfied: dill in /usr/local/lib/python3.7/dist-packages (from datasets) (0.3.4)\n",
            "Requirement already satisfied: xxhash in /usr/local/lib/python3.7/dist-packages (from datasets) (3.0.0)\n",
            "Requirement already satisfied: responses<0.19 in /usr/local/lib/python3.7/dist-packages (from datasets) (0.18.0)\n",
            "Requirement already satisfied: requests>=2.19.0 in /usr/local/lib/python3.7/dist-packages (from datasets) (2.23.0)\n",
            "Requirement already satisfied: pandas in /usr/local/lib/python3.7/dist-packages (from datasets) (1.3.5)\n",
            "Requirement already satisfied: fsspec[http]>=2021.05.0 in /usr/local/lib/python3.7/dist-packages (from datasets) (2022.3.0)\n",
            "Requirement already satisfied: numpy>=1.17 in /usr/local/lib/python3.7/dist-packages (from datasets) (1.21.5)\n",
            "Requirement already satisfied: huggingface-hub<1.0.0,>=0.1.0 in /usr/local/lib/python3.7/dist-packages (from datasets) (0.4.0)\n",
            "Requirement already satisfied: packaging in /usr/local/lib/python3.7/dist-packages (from datasets) (21.3)\n",
            "Requirement already satisfied: aiohttp in /usr/local/lib/python3.7/dist-packages (from datasets) (3.8.1)\n",
            "Requirement already satisfied: importlib-metadata in /usr/local/lib/python3.7/dist-packages (from datasets) (4.11.3)\n",
            "Requirement already satisfied: pyarrow>=5.0.0 in /usr/local/lib/python3.7/dist-packages (from datasets) (6.0.1)\n",
            "Requirement already satisfied: tqdm>=4.62.1 in /usr/local/lib/python3.7/dist-packages (from datasets) (4.63.0)\n",
            "Requirement already satisfied: multiprocess in /usr/local/lib/python3.7/dist-packages (from datasets) (0.70.12.2)\n",
            "Requirement already satisfied: typing-extensions>=3.7.4.3 in /usr/local/lib/python3.7/dist-packages (from huggingface-hub<1.0.0,>=0.1.0->datasets) (3.10.0.2)\n",
            "Requirement already satisfied: filelock in /usr/local/lib/python3.7/dist-packages (from huggingface-hub<1.0.0,>=0.1.0->datasets) (3.6.0)\n",
            "Requirement already satisfied: pyyaml in /usr/local/lib/python3.7/dist-packages (from huggingface-hub<1.0.0,>=0.1.0->datasets) (6.0)\n",
            "Requirement already satisfied: pyparsing!=3.0.5,>=2.0.2 in /usr/local/lib/python3.7/dist-packages (from packaging->datasets) (3.0.7)\n",
            "Requirement already satisfied: urllib3!=1.25.0,!=1.25.1,<1.26,>=1.21.1 in /usr/local/lib/python3.7/dist-packages (from requests>=2.19.0->datasets) (1.25.11)\n",
            "Requirement already satisfied: certifi>=2017.4.17 in /usr/local/lib/python3.7/dist-packages (from requests>=2.19.0->datasets) (2021.10.8)\n",
            "Requirement already satisfied: idna<3,>=2.5 in /usr/local/lib/python3.7/dist-packages (from requests>=2.19.0->datasets) (2.10)\n",
            "Requirement already satisfied: chardet<4,>=3.0.2 in /usr/local/lib/python3.7/dist-packages (from requests>=2.19.0->datasets) (3.0.4)\n",
            "Requirement already satisfied: attrs>=17.3.0 in /usr/local/lib/python3.7/dist-packages (from aiohttp->datasets) (21.4.0)\n",
            "Requirement already satisfied: asynctest==0.13.0 in /usr/local/lib/python3.7/dist-packages (from aiohttp->datasets) (0.13.0)\n",
            "Requirement already satisfied: charset-normalizer<3.0,>=2.0 in /usr/local/lib/python3.7/dist-packages (from aiohttp->datasets) (2.0.12)\n",
            "Requirement already satisfied: aiosignal>=1.1.2 in /usr/local/lib/python3.7/dist-packages (from aiohttp->datasets) (1.2.0)\n",
            "Requirement already satisfied: async-timeout<5.0,>=4.0.0a3 in /usr/local/lib/python3.7/dist-packages (from aiohttp->datasets) (4.0.2)\n",
            "Requirement already satisfied: multidict<7.0,>=4.5 in /usr/local/lib/python3.7/dist-packages (from aiohttp->datasets) (6.0.2)\n",
            "Requirement already satisfied: frozenlist>=1.1.1 in /usr/local/lib/python3.7/dist-packages (from aiohttp->datasets) (1.3.0)\n",
            "Requirement already satisfied: yarl<2.0,>=1.0 in /usr/local/lib/python3.7/dist-packages (from aiohttp->datasets) (1.7.2)\n",
            "Requirement already satisfied: zipp>=0.5 in /usr/local/lib/python3.7/dist-packages (from importlib-metadata->datasets) (3.7.0)\n",
            "Requirement already satisfied: pytz>=2017.3 in /usr/local/lib/python3.7/dist-packages (from pandas->datasets) (2018.9)\n",
            "Requirement already satisfied: python-dateutil>=2.7.3 in /usr/local/lib/python3.7/dist-packages (from pandas->datasets) (2.8.2)\n",
            "Requirement already satisfied: six>=1.5 in /usr/local/lib/python3.7/dist-packages (from python-dateutil>=2.7.3->pandas->datasets) (1.15.0)\n"
          ]
        }
      ],
      "source": [
        "!pip install datasets"
      ]
    },
    {
      "cell_type": "code",
      "source": [
        "# huggingface datasets hub\n",
        "from datasets import list_datasets\n",
        "\n",
        "all_datasets = list_datasets()\n",
        "print(f\"There are {len(all_datasets)} datasets currently available on the huggingface hub.\")\n",
        "print(f\"The first 10 datasets are {all_datasets[:10]}\")"
      ],
      "metadata": {
        "id": "i7iixqsDoVFS",
        "colab": {
          "base_uri": "https://localhost:8080/"
        },
        "outputId": "825dc8c3-af55-41c9-b967-3b20f5d6dfb3"
      },
      "execution_count": null,
      "outputs": [
        {
          "output_type": "stream",
          "name": "stdout",
          "text": [
            "There are 3932 datasets currently available on the huggingface hub.\n",
            "The first 10 datasets are ['acronym_identification', 'ade_corpus_v2', 'adversarial_qa', 'aeslc', 'afrikaans_ner_corpus', 'ag_news', 'ai2_arc', 'air_dialogue', 'ajgt_twitter_ar', 'allegro_reviews']\n"
          ]
        }
      ]
    },
    {
      "cell_type": "code",
      "source": [
        "from datasets import load_dataset\n",
        "\n",
        "emotions = load_dataset(\"emotion\")"
      ],
      "metadata": {
        "id": "C1o33-9foegB",
        "colab": {
          "base_uri": "https://localhost:8080/",
          "height": 104,
          "referenced_widgets": [
            "fe9d48d9cc5549529c7fdf728f912ee4",
            "c5f1968feb2b4a519d6997355a327f9f",
            "26a028529f3741c4baf3c9d4ec08fb07",
            "c296f904a81145e0ba9aa1a45fd83664",
            "c3315f5d5e4a4b80b27cbb667081ffe9",
            "71061a35ba3a4b53a05089ce055327aa",
            "0276bb5389414bd9983f1ba9c124250a",
            "775eff6cef5c4afe90039f54eba4aacc",
            "37a4ba6650ac4b73b76aafe60e7ded3c",
            "0ef2d92f86b349f7b9228229bdcfd839",
            "b9d7324243a84fdfb42556944591683a"
          ]
        },
        "outputId": "64479bff-f835-4a0f-be42-86375c6ed3b5"
      },
      "execution_count": null,
      "outputs": [
        {
          "output_type": "stream",
          "name": "stderr",
          "text": [
            "Using custom data configuration default\n",
            "Reusing dataset emotion (/root/.cache/huggingface/datasets/emotion/default/0.0.0/348f63ca8e27b3713b6c04d723efe6d824a56fb3d1449794716c0f0296072705)\n"
          ]
        },
        {
          "output_type": "display_data",
          "data": {
            "text/plain": [
              "  0%|          | 0/3 [00:00<?, ?it/s]"
            ],
            "application/vnd.jupyter.widget-view+json": {
              "version_major": 2,
              "version_minor": 0,
              "model_id": "fe9d48d9cc5549529c7fdf728f912ee4"
            }
          },
          "metadata": {}
        }
      ]
    },
    {
      "cell_type": "code",
      "source": [
        "emotions[\"train\"][:10]"
      ],
      "metadata": {
        "id": "rnyOMWb9ogAw",
        "colab": {
          "base_uri": "https://localhost:8080/"
        },
        "outputId": "3ca091e8-3a8e-427a-bec3-8a01110df665"
      },
      "execution_count": null,
      "outputs": [
        {
          "output_type": "execute_result",
          "data": {
            "text/plain": [
              "{'label': [0, 0, 3, 2, 3, 0, 5, 4, 1, 2],\n",
              " 'text': ['i didnt feel humiliated',\n",
              "  'i can go from feeling so hopeless to so damned hopeful just from being around someone who cares and is awake',\n",
              "  'im grabbing a minute to post i feel greedy wrong',\n",
              "  'i am ever feeling nostalgic about the fireplace i will know that it is still on the property',\n",
              "  'i am feeling grouchy',\n",
              "  'ive been feeling a little burdened lately wasnt sure why that was',\n",
              "  'ive been taking or milligrams or times recommended amount and ive fallen asleep a lot faster but i also feel like so funny',\n",
              "  'i feel as confused about life as a teenager or as jaded as a year old man',\n",
              "  'i have been with petronas for years i feel that petronas has performed well and made a huge profit',\n",
              "  'i feel romantic too']}"
            ]
          },
          "metadata": {},
          "execution_count": 4
        }
      ]
    },
    {
      "cell_type": "code",
      "source": [
        "train_ds = emotions[\"train\"]\n",
        "train_ds"
      ],
      "metadata": {
        "colab": {
          "base_uri": "https://localhost:8080/"
        },
        "id": "gkCbnNLurUQB",
        "outputId": "6e451a09-ca6a-481a-afd6-21aa6c59c512"
      },
      "execution_count": null,
      "outputs": [
        {
          "output_type": "execute_result",
          "data": {
            "text/plain": [
              "Dataset({\n",
              "    features: ['text', 'label'],\n",
              "    num_rows: 16000\n",
              "})"
            ]
          },
          "metadata": {},
          "execution_count": 5
        }
      ]
    },
    {
      "cell_type": "code",
      "source": [
        "train_ds.features"
      ],
      "metadata": {
        "colab": {
          "base_uri": "https://localhost:8080/"
        },
        "id": "-aXqL3uEsQ15",
        "outputId": "aa2a01b5-347e-45fc-c246-02d6b241be5f"
      },
      "execution_count": null,
      "outputs": [
        {
          "output_type": "execute_result",
          "data": {
            "text/plain": [
              "{'label': ClassLabel(num_classes=6, names=['sadness', 'joy', 'love', 'anger', 'fear', 'surprise'], id=None),\n",
              " 'text': Value(dtype='string', id=None)}"
            ]
          },
          "metadata": {},
          "execution_count": 6
        }
      ]
    },
    {
      "cell_type": "code",
      "source": [
        "train_ds[\"text\"][:5]"
      ],
      "metadata": {
        "colab": {
          "base_uri": "https://localhost:8080/"
        },
        "id": "IWWuTsc-sapZ",
        "outputId": "7120b7c5-1790-4491-b34c-a122431f1f27"
      },
      "execution_count": null,
      "outputs": [
        {
          "output_type": "execute_result",
          "data": {
            "text/plain": [
              "['i didnt feel humiliated',\n",
              " 'i can go from feeling so hopeless to so damned hopeful just from being around someone who cares and is awake',\n",
              " 'im grabbing a minute to post i feel greedy wrong',\n",
              " 'i am ever feeling nostalgic about the fireplace i will know that it is still on the property',\n",
              " 'i am feeling grouchy']"
            ]
          },
          "metadata": {},
          "execution_count": 7
        }
      ]
    },
    {
      "cell_type": "code",
      "source": [
        "import pandas as pd\n",
        "\n",
        "emotions.set_format(type=\"pandas\")\n",
        "\n",
        "df = emotions[\"train\"][:100]\n",
        "df.head(20)"
      ],
      "metadata": {
        "id": "ORfEid5Hxq68",
        "colab": {
          "base_uri": "https://localhost:8080/",
          "height": 676
        },
        "outputId": "f8ce995c-ae02-4c1a-b02e-57e17461ad30"
      },
      "execution_count": null,
      "outputs": [
        {
          "output_type": "execute_result",
          "data": {
            "text/plain": [
              "                                                 text  label\n",
              "0                             i didnt feel humiliated      0\n",
              "1   i can go from feeling so hopeless to so damned...      0\n",
              "2    im grabbing a minute to post i feel greedy wrong      3\n",
              "3   i am ever feeling nostalgic about the fireplac...      2\n",
              "4                                i am feeling grouchy      3\n",
              "5   ive been feeling a little burdened lately wasn...      0\n",
              "6   ive been taking or milligrams or times recomme...      5\n",
              "7   i feel as confused about life as a teenager or...      4\n",
              "8   i have been with petronas for years i feel tha...      1\n",
              "9                                 i feel romantic too      2\n",
              "10  i feel like i have to make the suffering i m s...      0\n",
              "11  i do feel that running is a divine experience ...      1\n",
              "12  i think it s the easiest time of year to feel ...      3\n",
              "13                 i feel low energy i m just thirsty      0\n",
              "14  i have immense sympathy with the general point...      1\n",
              "15    i do not feel reassured anxiety is on each side      1\n",
              "16               i didnt really feel that embarrassed      0\n",
              "17            i feel pretty pathetic most of the time      0\n",
              "18  i started feeling sentimental about dolls i ha...      0\n",
              "19  i now feel compromised and skeptical of the va...      4"
            ],
            "text/html": [
              "\n",
              "  <div id=\"df-688fec21-c04e-47e8-b963-e1523b41b4e0\">\n",
              "    <div class=\"colab-df-container\">\n",
              "      <div>\n",
              "<style scoped>\n",
              "    .dataframe tbody tr th:only-of-type {\n",
              "        vertical-align: middle;\n",
              "    }\n",
              "\n",
              "    .dataframe tbody tr th {\n",
              "        vertical-align: top;\n",
              "    }\n",
              "\n",
              "    .dataframe thead th {\n",
              "        text-align: right;\n",
              "    }\n",
              "</style>\n",
              "<table border=\"1\" class=\"dataframe\">\n",
              "  <thead>\n",
              "    <tr style=\"text-align: right;\">\n",
              "      <th></th>\n",
              "      <th>text</th>\n",
              "      <th>label</th>\n",
              "    </tr>\n",
              "  </thead>\n",
              "  <tbody>\n",
              "    <tr>\n",
              "      <th>0</th>\n",
              "      <td>i didnt feel humiliated</td>\n",
              "      <td>0</td>\n",
              "    </tr>\n",
              "    <tr>\n",
              "      <th>1</th>\n",
              "      <td>i can go from feeling so hopeless to so damned...</td>\n",
              "      <td>0</td>\n",
              "    </tr>\n",
              "    <tr>\n",
              "      <th>2</th>\n",
              "      <td>im grabbing a minute to post i feel greedy wrong</td>\n",
              "      <td>3</td>\n",
              "    </tr>\n",
              "    <tr>\n",
              "      <th>3</th>\n",
              "      <td>i am ever feeling nostalgic about the fireplac...</td>\n",
              "      <td>2</td>\n",
              "    </tr>\n",
              "    <tr>\n",
              "      <th>4</th>\n",
              "      <td>i am feeling grouchy</td>\n",
              "      <td>3</td>\n",
              "    </tr>\n",
              "    <tr>\n",
              "      <th>5</th>\n",
              "      <td>ive been feeling a little burdened lately wasn...</td>\n",
              "      <td>0</td>\n",
              "    </tr>\n",
              "    <tr>\n",
              "      <th>6</th>\n",
              "      <td>ive been taking or milligrams or times recomme...</td>\n",
              "      <td>5</td>\n",
              "    </tr>\n",
              "    <tr>\n",
              "      <th>7</th>\n",
              "      <td>i feel as confused about life as a teenager or...</td>\n",
              "      <td>4</td>\n",
              "    </tr>\n",
              "    <tr>\n",
              "      <th>8</th>\n",
              "      <td>i have been with petronas for years i feel tha...</td>\n",
              "      <td>1</td>\n",
              "    </tr>\n",
              "    <tr>\n",
              "      <th>9</th>\n",
              "      <td>i feel romantic too</td>\n",
              "      <td>2</td>\n",
              "    </tr>\n",
              "    <tr>\n",
              "      <th>10</th>\n",
              "      <td>i feel like i have to make the suffering i m s...</td>\n",
              "      <td>0</td>\n",
              "    </tr>\n",
              "    <tr>\n",
              "      <th>11</th>\n",
              "      <td>i do feel that running is a divine experience ...</td>\n",
              "      <td>1</td>\n",
              "    </tr>\n",
              "    <tr>\n",
              "      <th>12</th>\n",
              "      <td>i think it s the easiest time of year to feel ...</td>\n",
              "      <td>3</td>\n",
              "    </tr>\n",
              "    <tr>\n",
              "      <th>13</th>\n",
              "      <td>i feel low energy i m just thirsty</td>\n",
              "      <td>0</td>\n",
              "    </tr>\n",
              "    <tr>\n",
              "      <th>14</th>\n",
              "      <td>i have immense sympathy with the general point...</td>\n",
              "      <td>1</td>\n",
              "    </tr>\n",
              "    <tr>\n",
              "      <th>15</th>\n",
              "      <td>i do not feel reassured anxiety is on each side</td>\n",
              "      <td>1</td>\n",
              "    </tr>\n",
              "    <tr>\n",
              "      <th>16</th>\n",
              "      <td>i didnt really feel that embarrassed</td>\n",
              "      <td>0</td>\n",
              "    </tr>\n",
              "    <tr>\n",
              "      <th>17</th>\n",
              "      <td>i feel pretty pathetic most of the time</td>\n",
              "      <td>0</td>\n",
              "    </tr>\n",
              "    <tr>\n",
              "      <th>18</th>\n",
              "      <td>i started feeling sentimental about dolls i ha...</td>\n",
              "      <td>0</td>\n",
              "    </tr>\n",
              "    <tr>\n",
              "      <th>19</th>\n",
              "      <td>i now feel compromised and skeptical of the va...</td>\n",
              "      <td>4</td>\n",
              "    </tr>\n",
              "  </tbody>\n",
              "</table>\n",
              "</div>\n",
              "      <button class=\"colab-df-convert\" onclick=\"convertToInteractive('df-688fec21-c04e-47e8-b963-e1523b41b4e0')\"\n",
              "              title=\"Convert this dataframe to an interactive table.\"\n",
              "              style=\"display:none;\">\n",
              "        \n",
              "  <svg xmlns=\"http://www.w3.org/2000/svg\" height=\"24px\"viewBox=\"0 0 24 24\"\n",
              "       width=\"24px\">\n",
              "    <path d=\"M0 0h24v24H0V0z\" fill=\"none\"/>\n",
              "    <path d=\"M18.56 5.44l.94 2.06.94-2.06 2.06-.94-2.06-.94-.94-2.06-.94 2.06-2.06.94zm-11 1L8.5 8.5l.94-2.06 2.06-.94-2.06-.94L8.5 2.5l-.94 2.06-2.06.94zm10 10l.94 2.06.94-2.06 2.06-.94-2.06-.94-.94-2.06-.94 2.06-2.06.94z\"/><path d=\"M17.41 7.96l-1.37-1.37c-.4-.4-.92-.59-1.43-.59-.52 0-1.04.2-1.43.59L10.3 9.45l-7.72 7.72c-.78.78-.78 2.05 0 2.83L4 21.41c.39.39.9.59 1.41.59.51 0 1.02-.2 1.41-.59l7.78-7.78 2.81-2.81c.8-.78.8-2.07 0-2.86zM5.41 20L4 18.59l7.72-7.72 1.47 1.35L5.41 20z\"/>\n",
              "  </svg>\n",
              "      </button>\n",
              "      \n",
              "  <style>\n",
              "    .colab-df-container {\n",
              "      display:flex;\n",
              "      flex-wrap:wrap;\n",
              "      gap: 12px;\n",
              "    }\n",
              "\n",
              "    .colab-df-convert {\n",
              "      background-color: #E8F0FE;\n",
              "      border: none;\n",
              "      border-radius: 50%;\n",
              "      cursor: pointer;\n",
              "      display: none;\n",
              "      fill: #1967D2;\n",
              "      height: 32px;\n",
              "      padding: 0 0 0 0;\n",
              "      width: 32px;\n",
              "    }\n",
              "\n",
              "    .colab-df-convert:hover {\n",
              "      background-color: #E2EBFA;\n",
              "      box-shadow: 0px 1px 2px rgba(60, 64, 67, 0.3), 0px 1px 3px 1px rgba(60, 64, 67, 0.15);\n",
              "      fill: #174EA6;\n",
              "    }\n",
              "\n",
              "    [theme=dark] .colab-df-convert {\n",
              "      background-color: #3B4455;\n",
              "      fill: #D2E3FC;\n",
              "    }\n",
              "\n",
              "    [theme=dark] .colab-df-convert:hover {\n",
              "      background-color: #434B5C;\n",
              "      box-shadow: 0px 1px 3px 1px rgba(0, 0, 0, 0.15);\n",
              "      filter: drop-shadow(0px 1px 2px rgba(0, 0, 0, 0.3));\n",
              "      fill: #FFFFFF;\n",
              "    }\n",
              "  </style>\n",
              "\n",
              "      <script>\n",
              "        const buttonEl =\n",
              "          document.querySelector('#df-688fec21-c04e-47e8-b963-e1523b41b4e0 button.colab-df-convert');\n",
              "        buttonEl.style.display =\n",
              "          google.colab.kernel.accessAllowed ? 'block' : 'none';\n",
              "\n",
              "        async function convertToInteractive(key) {\n",
              "          const element = document.querySelector('#df-688fec21-c04e-47e8-b963-e1523b41b4e0');\n",
              "          const dataTable =\n",
              "            await google.colab.kernel.invokeFunction('convertToInteractive',\n",
              "                                                     [key], {});\n",
              "          if (!dataTable) return;\n",
              "\n",
              "          const docLinkHtml = 'Like what you see? Visit the ' +\n",
              "            '<a target=\"_blank\" href=https://colab.research.google.com/notebooks/data_table.ipynb>data table notebook</a>'\n",
              "            + ' to learn more about interactive tables.';\n",
              "          element.innerHTML = '';\n",
              "          dataTable['output_type'] = 'display_data';\n",
              "          await google.colab.output.renderOutput(dataTable, element);\n",
              "          const docLink = document.createElement('div');\n",
              "          docLink.innerHTML = docLinkHtml;\n",
              "          element.appendChild(docLink);\n",
              "        }\n",
              "      </script>\n",
              "    </div>\n",
              "  </div>\n",
              "  "
            ]
          },
          "metadata": {},
          "execution_count": 8
        }
      ]
    },
    {
      "cell_type": "code",
      "source": [
        "# add new column\n",
        "def label_int2str(row):\n",
        "  return emotions[\"train\"].features[\"label\"].int2str(row)\n",
        "\n",
        "df[\"label_name\"] = df[\"label\"].apply(label_int2str)\n",
        "df.head()"
      ],
      "metadata": {
        "colab": {
          "base_uri": "https://localhost:8080/",
          "height": 206
        },
        "id": "askErmBO9H4y",
        "outputId": "75eb532d-8899-45e2-a999-41f2c5d073e0"
      },
      "execution_count": null,
      "outputs": [
        {
          "output_type": "execute_result",
          "data": {
            "text/plain": [
              "                                                text  label label_name\n",
              "0                            i didnt feel humiliated      0    sadness\n",
              "1  i can go from feeling so hopeless to so damned...      0    sadness\n",
              "2   im grabbing a minute to post i feel greedy wrong      3      anger\n",
              "3  i am ever feeling nostalgic about the fireplac...      2       love\n",
              "4                               i am feeling grouchy      3      anger"
            ],
            "text/html": [
              "\n",
              "  <div id=\"df-89770447-c395-47ae-8f36-25c18b4205e2\">\n",
              "    <div class=\"colab-df-container\">\n",
              "      <div>\n",
              "<style scoped>\n",
              "    .dataframe tbody tr th:only-of-type {\n",
              "        vertical-align: middle;\n",
              "    }\n",
              "\n",
              "    .dataframe tbody tr th {\n",
              "        vertical-align: top;\n",
              "    }\n",
              "\n",
              "    .dataframe thead th {\n",
              "        text-align: right;\n",
              "    }\n",
              "</style>\n",
              "<table border=\"1\" class=\"dataframe\">\n",
              "  <thead>\n",
              "    <tr style=\"text-align: right;\">\n",
              "      <th></th>\n",
              "      <th>text</th>\n",
              "      <th>label</th>\n",
              "      <th>label_name</th>\n",
              "    </tr>\n",
              "  </thead>\n",
              "  <tbody>\n",
              "    <tr>\n",
              "      <th>0</th>\n",
              "      <td>i didnt feel humiliated</td>\n",
              "      <td>0</td>\n",
              "      <td>sadness</td>\n",
              "    </tr>\n",
              "    <tr>\n",
              "      <th>1</th>\n",
              "      <td>i can go from feeling so hopeless to so damned...</td>\n",
              "      <td>0</td>\n",
              "      <td>sadness</td>\n",
              "    </tr>\n",
              "    <tr>\n",
              "      <th>2</th>\n",
              "      <td>im grabbing a minute to post i feel greedy wrong</td>\n",
              "      <td>3</td>\n",
              "      <td>anger</td>\n",
              "    </tr>\n",
              "    <tr>\n",
              "      <th>3</th>\n",
              "      <td>i am ever feeling nostalgic about the fireplac...</td>\n",
              "      <td>2</td>\n",
              "      <td>love</td>\n",
              "    </tr>\n",
              "    <tr>\n",
              "      <th>4</th>\n",
              "      <td>i am feeling grouchy</td>\n",
              "      <td>3</td>\n",
              "      <td>anger</td>\n",
              "    </tr>\n",
              "  </tbody>\n",
              "</table>\n",
              "</div>\n",
              "      <button class=\"colab-df-convert\" onclick=\"convertToInteractive('df-89770447-c395-47ae-8f36-25c18b4205e2')\"\n",
              "              title=\"Convert this dataframe to an interactive table.\"\n",
              "              style=\"display:none;\">\n",
              "        \n",
              "  <svg xmlns=\"http://www.w3.org/2000/svg\" height=\"24px\"viewBox=\"0 0 24 24\"\n",
              "       width=\"24px\">\n",
              "    <path d=\"M0 0h24v24H0V0z\" fill=\"none\"/>\n",
              "    <path d=\"M18.56 5.44l.94 2.06.94-2.06 2.06-.94-2.06-.94-.94-2.06-.94 2.06-2.06.94zm-11 1L8.5 8.5l.94-2.06 2.06-.94-2.06-.94L8.5 2.5l-.94 2.06-2.06.94zm10 10l.94 2.06.94-2.06 2.06-.94-2.06-.94-.94-2.06-.94 2.06-2.06.94z\"/><path d=\"M17.41 7.96l-1.37-1.37c-.4-.4-.92-.59-1.43-.59-.52 0-1.04.2-1.43.59L10.3 9.45l-7.72 7.72c-.78.78-.78 2.05 0 2.83L4 21.41c.39.39.9.59 1.41.59.51 0 1.02-.2 1.41-.59l7.78-7.78 2.81-2.81c.8-.78.8-2.07 0-2.86zM5.41 20L4 18.59l7.72-7.72 1.47 1.35L5.41 20z\"/>\n",
              "  </svg>\n",
              "      </button>\n",
              "      \n",
              "  <style>\n",
              "    .colab-df-container {\n",
              "      display:flex;\n",
              "      flex-wrap:wrap;\n",
              "      gap: 12px;\n",
              "    }\n",
              "\n",
              "    .colab-df-convert {\n",
              "      background-color: #E8F0FE;\n",
              "      border: none;\n",
              "      border-radius: 50%;\n",
              "      cursor: pointer;\n",
              "      display: none;\n",
              "      fill: #1967D2;\n",
              "      height: 32px;\n",
              "      padding: 0 0 0 0;\n",
              "      width: 32px;\n",
              "    }\n",
              "\n",
              "    .colab-df-convert:hover {\n",
              "      background-color: #E2EBFA;\n",
              "      box-shadow: 0px 1px 2px rgba(60, 64, 67, 0.3), 0px 1px 3px 1px rgba(60, 64, 67, 0.15);\n",
              "      fill: #174EA6;\n",
              "    }\n",
              "\n",
              "    [theme=dark] .colab-df-convert {\n",
              "      background-color: #3B4455;\n",
              "      fill: #D2E3FC;\n",
              "    }\n",
              "\n",
              "    [theme=dark] .colab-df-convert:hover {\n",
              "      background-color: #434B5C;\n",
              "      box-shadow: 0px 1px 3px 1px rgba(0, 0, 0, 0.15);\n",
              "      filter: drop-shadow(0px 1px 2px rgba(0, 0, 0, 0.3));\n",
              "      fill: #FFFFFF;\n",
              "    }\n",
              "  </style>\n",
              "\n",
              "      <script>\n",
              "        const buttonEl =\n",
              "          document.querySelector('#df-89770447-c395-47ae-8f36-25c18b4205e2 button.colab-df-convert');\n",
              "        buttonEl.style.display =\n",
              "          google.colab.kernel.accessAllowed ? 'block' : 'none';\n",
              "\n",
              "        async function convertToInteractive(key) {\n",
              "          const element = document.querySelector('#df-89770447-c395-47ae-8f36-25c18b4205e2');\n",
              "          const dataTable =\n",
              "            await google.colab.kernel.invokeFunction('convertToInteractive',\n",
              "                                                     [key], {});\n",
              "          if (!dataTable) return;\n",
              "\n",
              "          const docLinkHtml = 'Like what you see? Visit the ' +\n",
              "            '<a target=\"_blank\" href=https://colab.research.google.com/notebooks/data_table.ipynb>data table notebook</a>'\n",
              "            + ' to learn more about interactive tables.';\n",
              "          element.innerHTML = '';\n",
              "          dataTable['output_type'] = 'display_data';\n",
              "          await google.colab.output.renderOutput(dataTable, element);\n",
              "          const docLink = document.createElement('div');\n",
              "          docLink.innerHTML = docLinkHtml;\n",
              "          element.appendChild(docLink);\n",
              "        }\n",
              "      </script>\n",
              "    </div>\n",
              "  </div>\n",
              "  "
            ]
          },
          "metadata": {},
          "execution_count": 9
        }
      ]
    },
    {
      "cell_type": "code",
      "source": [
        "import matplotlib.pyplot as plt\n",
        "\n",
        "df[\"label_name\"].value_counts(ascending=True).plot.barh()\n",
        "\n",
        "plt.title(\"Frequency of Classes\")\n",
        "plt.show()"
      ],
      "metadata": {
        "colab": {
          "base_uri": "https://localhost:8080/",
          "height": 281
        },
        "id": "W_98_qRh_AHh",
        "outputId": "52ac1458-8516-4fac-8bec-af82f541bd92"
      },
      "execution_count": null,
      "outputs": [
        {
          "output_type": "display_data",
          "data": {
            "text/plain": [
              "<Figure size 432x288 with 1 Axes>"
            ],
            "image/png": "[encoded data removed]"
          },
          "metadata": {
            "needs_background": "light"
          }
        }
      ]
    },
    {
      "cell_type": "code",
      "source": [
        "df[\"Words Per Tweet\"] = df[\"text\"].str.split().apply(len) \n",
        "df.boxplot(\"Words Per Tweet\", by=\"label_name\", grid=False,\n",
        "showfliers=False, color=\"black\")\n",
        "plt.suptitle(\"\")\n",
        "plt.xlabel(\"\")\n",
        "plt.show()"
      ],
      "metadata": {
        "colab": {
          "base_uri": "https://localhost:8080/",
          "height": 334
        },
        "id": "93sXWIRaAOEK",
        "outputId": "ff5508fb-6c48-42ca-db33-118ce240c2e3"
      },
      "execution_count": null,
      "outputs": [
        {
          "output_type": "stream",
          "name": "stderr",
          "text": [
            "/usr/local/lib/python3.7/dist-packages/matplotlib/cbook/__init__.py:1376: VisibleDeprecationWarning: Creating an ndarray from ragged nested sequences (which is a list-or-tuple of lists-or-tuples-or ndarrays with different lengths or shapes) is deprecated. If you meant to do this, you must specify 'dtype=object' when creating the ndarray.\n",
            "  X = np.atleast_1d(X.T if isinstance(X, np.ndarray) else np.asarray(X))\n"
          ]
        },
        {
          "output_type": "display_data",
          "data": {
            "text/plain": [
              "<Figure size 432x288 with 1 Axes>"
            ],
            "image/png": "[encoded data removed]"
          },
          "metadata": {
            "needs_background": "light"
          }
        }
      ]
    },
    {
      "cell_type": "code",
      "source": [
        "emotions.reset_format()"
      ],
      "metadata": {
        "id": "lW7qC9uvItMW"
      },
      "execution_count": null,
      "outputs": []
    },
    {
      "cell_type": "code",
      "source": [
        "emotions"
      ],
      "metadata": {
        "colab": {
          "base_uri": "https://localhost:8080/"
        },
        "id": "4ZvHJJmWJDrN",
        "outputId": "7f5835af-6f1d-45c2-f53b-2132505b6eda"
      },
      "execution_count": null,
      "outputs": [
        {
          "output_type": "execute_result",
          "data": {
            "text/plain": [
              "DatasetDict({\n",
              "    train: Dataset({\n",
              "        features: ['text', 'label'],\n",
              "        num_rows: 16000\n",
              "    })\n",
              "    validation: Dataset({\n",
              "        features: ['text', 'label'],\n",
              "        num_rows: 2000\n",
              "    })\n",
              "    test: Dataset({\n",
              "        features: ['text', 'label'],\n",
              "        num_rows: 2000\n",
              "    })\n",
              "})"
            ]
          },
          "metadata": {},
          "execution_count": 13
        }
      ]
    },
    {
      "cell_type": "code",
      "source": [
        "text = \"Tokenizing text is a core task of NLP.\"\n",
        "d = {ch : idx for idx, ch in enumerate(sorted(set(text)))}\n",
        "\n",
        "sent = \"Thick skin\"\n",
        "encode = [d[i]for i in text]\n",
        "\n",
        "import torch\n",
        "\n",
        "tensor_encode = torch.tensor(encode)\n"
      ],
      "metadata": {
        "id": "4A1QSCqRJN7S"
      },
      "execution_count": null,
      "outputs": []
    },
    {
      "cell_type": "code",
      "source": [
        "import torch.nn.functional as F\n",
        "\n",
        "oh = F.one_hot(tensor_encode, num_classes = len(d))\n",
        "oh.shape"
      ],
      "metadata": {
        "colab": {
          "base_uri": "https://localhost:8080/"
        },
        "id": "5IoQLkJpJbD1",
        "outputId": "a2fffc79-0a69-4da1-8ef4-088861d95bea"
      },
      "execution_count": null,
      "outputs": [
        {
          "output_type": "execute_result",
          "data": {
            "text/plain": [
              "torch.Size([38, 20])"
            ]
          },
          "metadata": {},
          "execution_count": 15
        }
      ]
    },
    {
      "cell_type": "code",
      "source": [
        "oh"
      ],
      "metadata": {
        "colab": {
          "base_uri": "https://localhost:8080/"
        },
        "id": "sYOpkdwyJd7d",
        "outputId": "1d005087-cbd3-4063-8b03-3c4bc829828e"
      },
      "execution_count": null,
      "outputs": [
        {
          "output_type": "execute_result",
          "data": {
            "text/plain": [
              "tensor([[0, 0, 0, 0, 0, 1, 0, 0, 0, 0, 0, 0, 0, 0, 0, 0, 0, 0, 0, 0],\n",
              "        [0, 0, 0, 0, 0, 0, 0, 0, 0, 0, 0, 0, 0, 0, 1, 0, 0, 0, 0, 0],\n",
              "        [0, 0, 0, 0, 0, 0, 0, 0, 0, 0, 0, 0, 1, 0, 0, 0, 0, 0, 0, 0],\n",
              "        [0, 0, 0, 0, 0, 0, 0, 0, 1, 0, 0, 0, 0, 0, 0, 0, 0, 0, 0, 0],\n",
              "        [0, 0, 0, 0, 0, 0, 0, 0, 0, 0, 0, 0, 0, 1, 0, 0, 0, 0, 0, 0],\n",
              "        [0, 0, 0, 0, 0, 0, 0, 0, 0, 0, 0, 1, 0, 0, 0, 0, 0, 0, 0, 0],\n",
              "        [0, 0, 0, 0, 0, 0, 0, 0, 0, 0, 0, 0, 0, 0, 0, 0, 0, 0, 0, 1],\n",
              "        [0, 0, 0, 0, 0, 0, 0, 0, 0, 0, 0, 1, 0, 0, 0, 0, 0, 0, 0, 0],\n",
              "        [0, 0, 0, 0, 0, 0, 0, 0, 0, 0, 0, 0, 0, 1, 0, 0, 0, 0, 0, 0],\n",
              "        [0, 0, 0, 0, 0, 0, 0, 0, 0, 0, 1, 0, 0, 0, 0, 0, 0, 0, 0, 0],\n",
              "        [1, 0, 0, 0, 0, 0, 0, 0, 0, 0, 0, 0, 0, 0, 0, 0, 0, 0, 0, 0],\n",
              "        [0, 0, 0, 0, 0, 0, 0, 0, 0, 0, 0, 0, 0, 0, 0, 0, 0, 1, 0, 0],\n",
              "        [0, 0, 0, 0, 0, 0, 0, 0, 1, 0, 0, 0, 0, 0, 0, 0, 0, 0, 0, 0],\n",
              "        [0, 0, 0, 0, 0, 0, 0, 0, 0, 0, 0, 0, 0, 0, 0, 0, 0, 0, 1, 0],\n",
              "        [0, 0, 0, 0, 0, 0, 0, 0, 0, 0, 0, 0, 0, 0, 0, 0, 0, 1, 0, 0],\n",
              "        [1, 0, 0, 0, 0, 0, 0, 0, 0, 0, 0, 0, 0, 0, 0, 0, 0, 0, 0, 0],\n",
              "        [0, 0, 0, 0, 0, 0, 0, 0, 0, 0, 0, 1, 0, 0, 0, 0, 0, 0, 0, 0],\n",
              "        [0, 0, 0, 0, 0, 0, 0, 0, 0, 0, 0, 0, 0, 0, 0, 0, 1, 0, 0, 0],\n",
              "        [1, 0, 0, 0, 0, 0, 0, 0, 0, 0, 0, 0, 0, 0, 0, 0, 0, 0, 0, 0],\n",
              "        [0, 0, 0, 0, 0, 0, 1, 0, 0, 0, 0, 0, 0, 0, 0, 0, 0, 0, 0, 0],\n",
              "        [1, 0, 0, 0, 0, 0, 0, 0, 0, 0, 0, 0, 0, 0, 0, 0, 0, 0, 0, 0],\n",
              "        [0, 0, 0, 0, 0, 0, 0, 1, 0, 0, 0, 0, 0, 0, 0, 0, 0, 0, 0, 0],\n",
              "        [0, 0, 0, 0, 0, 0, 0, 0, 0, 0, 0, 0, 0, 0, 1, 0, 0, 0, 0, 0],\n",
              "        [0, 0, 0, 0, 0, 0, 0, 0, 0, 0, 0, 0, 0, 0, 0, 1, 0, 0, 0, 0],\n",
              "        [0, 0, 0, 0, 0, 0, 0, 0, 1, 0, 0, 0, 0, 0, 0, 0, 0, 0, 0, 0],\n",
              "        [1, 0, 0, 0, 0, 0, 0, 0, 0, 0, 0, 0, 0, 0, 0, 0, 0, 0, 0, 0],\n",
              "        [0, 0, 0, 0, 0, 0, 0, 0, 0, 0, 0, 0, 0, 0, 0, 0, 0, 1, 0, 0],\n",
              "        [0, 0, 0, 0, 0, 0, 1, 0, 0, 0, 0, 0, 0, 0, 0, 0, 0, 0, 0, 0],\n",
              "        [0, 0, 0, 0, 0, 0, 0, 0, 0, 0, 0, 0, 0, 0, 0, 0, 1, 0, 0, 0],\n",
              "        [0, 0, 0, 0, 0, 0, 0, 0, 0, 0, 0, 0, 1, 0, 0, 0, 0, 0, 0, 0],\n",
              "        [1, 0, 0, 0, 0, 0, 0, 0, 0, 0, 0, 0, 0, 0, 0, 0, 0, 0, 0, 0],\n",
              "        [0, 0, 0, 0, 0, 0, 0, 0, 0, 0, 0, 0, 0, 0, 1, 0, 0, 0, 0, 0],\n",
              "        [0, 0, 0, 0, 0, 0, 0, 0, 0, 1, 0, 0, 0, 0, 0, 0, 0, 0, 0, 0],\n",
              "        [1, 0, 0, 0, 0, 0, 0, 0, 0, 0, 0, 0, 0, 0, 0, 0, 0, 0, 0, 0],\n",
              "        [0, 0, 0, 1, 0, 0, 0, 0, 0, 0, 0, 0, 0, 0, 0, 0, 0, 0, 0, 0],\n",
              "        [0, 0, 1, 0, 0, 0, 0, 0, 0, 0, 0, 0, 0, 0, 0, 0, 0, 0, 0, 0],\n",
              "        [0, 0, 0, 0, 1, 0, 0, 0, 0, 0, 0, 0, 0, 0, 0, 0, 0, 0, 0, 0],\n",
              "        [0, 1, 0, 0, 0, 0, 0, 0, 0, 0, 0, 0, 0, 0, 0, 0, 0, 0, 0, 0]])"
            ]
          },
          "metadata": {},
          "execution_count": 16
        }
      ]
    },
    {
      "cell_type": "code",
      "source": [
        "len(d)"
      ],
      "metadata": {
        "id": "LDxa_kDGKRc_",
        "colab": {
          "base_uri": "https://localhost:8080/"
        },
        "outputId": "9db5ccf0-47e2-4b4a-90e3-62378b7b9405"
      },
      "execution_count": null,
      "outputs": [
        {
          "output_type": "execute_result",
          "data": {
            "text/plain": [
              "20"
            ]
          },
          "metadata": {},
          "execution_count": 17
        }
      ]
    },
    {
      "cell_type": "code",
      "source": [
        "tensor_encode"
      ],
      "metadata": {
        "colab": {
          "base_uri": "https://localhost:8080/"
        },
        "id": "3KxOKC-ZV5Ox",
        "outputId": "7f21ea2f-035f-4fba-bc2d-9bacdb364258"
      },
      "execution_count": null,
      "outputs": [
        {
          "output_type": "execute_result",
          "data": {
            "text/plain": [
              "tensor([ 5, 14, 12,  8, 13, 11, 19, 11, 13, 10,  0, 17,  8, 18, 17,  0, 11, 16,\n",
              "         0,  6,  0,  7, 14, 15,  8,  0, 17,  6, 16, 12,  0, 14,  9,  0,  3,  2,\n",
              "         4,  1])"
            ]
          },
          "metadata": {},
          "execution_count": 18
        }
      ]
    },
    {
      "cell_type": "code",
      "source": [
        "i = 5\n",
        "\n",
        "print(f\"for index at position : {tensor_encode[i]}\")\n",
        "print(f\"Its corresponding OH encoding : {oh[i]}\")"
      ],
      "metadata": {
        "colab": {
          "base_uri": "https://localhost:8080/"
        },
        "id": "6WtqZfpNWX2h",
        "outputId": "5ad7bd41-b288-40b7-ea6f-cb5423c3f94e"
      },
      "execution_count": null,
      "outputs": [
        {
          "output_type": "stream",
          "name": "stdout",
          "text": [
            "for index at position : 11\n",
            "Its corresponding OH encoding : tensor([0, 0, 0, 0, 0, 0, 0, 0, 0, 0, 0, 1, 0, 0, 0, 0, 0, 0, 0, 0])\n"
          ]
        }
      ]
    },
    {
      "cell_type": "code",
      "source": [
        "text[5]"
      ],
      "metadata": {
        "colab": {
          "base_uri": "https://localhost:8080/",
          "height": 35
        },
        "id": "KzVzhyG7YNmz",
        "outputId": "5abb6958-accb-4bbb-e6d7-9753b6084fc9"
      },
      "execution_count": null,
      "outputs": [
        {
          "output_type": "execute_result",
          "data": {
            "text/plain": [
              "'i'"
            ],
            "application/vnd.google.colaboratory.intrinsic+json": {
              "type": "string"
            }
          },
          "metadata": {},
          "execution_count": 20
        }
      ]
    },
    {
      "cell_type": "code",
      "source": [
        "encode"
      ],
      "metadata": {
        "colab": {
          "base_uri": "https://localhost:8080/"
        },
        "id": "mBE_VtblZPI0",
        "outputId": "fce461cf-72b1-4105-874d-e30b293838ee"
      },
      "execution_count": null,
      "outputs": [
        {
          "output_type": "execute_result",
          "data": {
            "text/plain": [
              "[5,\n",
              " 14,\n",
              " 12,\n",
              " 8,\n",
              " 13,\n",
              " 11,\n",
              " 19,\n",
              " 11,\n",
              " 13,\n",
              " 10,\n",
              " 0,\n",
              " 17,\n",
              " 8,\n",
              " 18,\n",
              " 17,\n",
              " 0,\n",
              " 11,\n",
              " 16,\n",
              " 0,\n",
              " 6,\n",
              " 0,\n",
              " 7,\n",
              " 14,\n",
              " 15,\n",
              " 8,\n",
              " 0,\n",
              " 17,\n",
              " 6,\n",
              " 16,\n",
              " 12,\n",
              " 0,\n",
              " 14,\n",
              " 9,\n",
              " 0,\n",
              " 3,\n",
              " 2,\n",
              " 4,\n",
              " 1]"
            ]
          },
          "metadata": {},
          "execution_count": 21
        }
      ]
    },
    {
      "cell_type": "code",
      "source": [
        "!pip install transformers"
      ],
      "metadata": {
        "colab": {
          "base_uri": "https://localhost:8080/"
        },
        "id": "1GSGNZnmcl6F",
        "outputId": "bf6a461a-6e4b-46b5-c9ca-7be434368846"
      },
      "execution_count": null,
      "outputs": [
        {
          "output_type": "stream",
          "name": "stdout",
          "text": [
            "Requirement already satisfied: transformers in /usr/local/lib/python3.7/dist-packages (4.17.0)\n",
            "Requirement already satisfied: tokenizers!=0.11.3,>=0.11.1 in /usr/local/lib/python3.7/dist-packages (from transformers) (0.11.6)\n",
            "Requirement already satisfied: numpy>=1.17 in /usr/local/lib/python3.7/dist-packages (from transformers) (1.21.5)\n",
            "Requirement already satisfied: sacremoses in /usr/local/lib/python3.7/dist-packages (from transformers) (0.0.49)\n",
            "Requirement already satisfied: packaging>=20.0 in /usr/local/lib/python3.7/dist-packages (from transformers) (21.3)\n",
            "Requirement already satisfied: importlib-metadata in /usr/local/lib/python3.7/dist-packages (from transformers) (4.11.3)\n",
            "Requirement already satisfied: pyyaml>=5.1 in /usr/local/lib/python3.7/dist-packages (from transformers) (6.0)\n",
            "Requirement already satisfied: requests in /usr/local/lib/python3.7/dist-packages (from transformers) (2.23.0)\n",
            "Requirement already satisfied: regex!=2019.12.17 in /usr/local/lib/python3.7/dist-packages (from transformers) (2019.12.20)\n",
            "Requirement already satisfied: tqdm>=4.27 in /usr/local/lib/python3.7/dist-packages (from transformers) (4.63.0)\n",
            "Requirement already satisfied: filelock in /usr/local/lib/python3.7/dist-packages (from transformers) (3.6.0)\n",
            "Requirement already satisfied: huggingface-hub<1.0,>=0.1.0 in /usr/local/lib/python3.7/dist-packages (from transformers) (0.4.0)\n",
            "Requirement already satisfied: typing-extensions>=3.7.4.3 in /usr/local/lib/python3.7/dist-packages (from huggingface-hub<1.0,>=0.1.0->transformers) (3.10.0.2)\n",
            "Requirement already satisfied: pyparsing!=3.0.5,>=2.0.2 in /usr/local/lib/python3.7/dist-packages (from packaging>=20.0->transformers) (3.0.7)\n",
            "Requirement already satisfied: zipp>=0.5 in /usr/local/lib/python3.7/dist-packages (from importlib-metadata->transformers) (3.7.0)\n",
            "Requirement already satisfied: chardet<4,>=3.0.2 in /usr/local/lib/python3.7/dist-packages (from requests->transformers) (3.0.4)\n",
            "Requirement already satisfied: idna<3,>=2.5 in /usr/local/lib/python3.7/dist-packages (from requests->transformers) (2.10)\n",
            "Requirement already satisfied: certifi>=2017.4.17 in /usr/local/lib/python3.7/dist-packages (from requests->transformers) (2021.10.8)\n",
            "Requirement already satisfied: urllib3!=1.25.0,!=1.25.1,<1.26,>=1.21.1 in /usr/local/lib/python3.7/dist-packages (from requests->transformers) (1.25.11)\n",
            "Requirement already satisfied: six in /usr/local/lib/python3.7/dist-packages (from sacremoses->transformers) (1.15.0)\n",
            "Requirement already satisfied: click in /usr/local/lib/python3.7/dist-packages (from sacremoses->transformers) (7.1.2)\n",
            "Requirement already satisfied: joblib in /usr/local/lib/python3.7/dist-packages (from sacremoses->transformers) (1.1.0)\n"
          ]
        }
      ]
    },
    {
      "cell_type": "code",
      "source": [
        "# subword tokenization\n",
        "\n",
        "from transformers import AutoTokenizer\n",
        "\n",
        "model_ckpt = \"distilbert-base-uncased\"\n",
        "tokenizer = AutoTokenizer.from_pretrained(model_ckpt)"
      ],
      "metadata": {
        "colab": {
          "base_uri": "https://localhost:8080/",
          "height": 145,
          "referenced_widgets": [
            "c64efb25f1e84231867257651a2e0fa5",
            "0c66a104369948a2974081e61ec788ae",
            "ea681d6a4aa341278c2db6610ff24db4",
            "c7286b26f3594efb9429ae97d7119bf3",
            "12aeb161c8a5425589955930d566be9c",
            "e954d7da11a7435492fa4606adc1a250",
            "73923a62fbba4145b17eb58eaf78282f",
            "ad83f50719d14fc08984f96fbcaec59a",
            "6563e34c056441e6ab08a543ad01e258",
            "42e9d74704d34a06b5269ba769b7926f",
            "7c65785a4f804fae998e81e59be0ac95",
            "627555dcaaed4f24a4aefc73387f8bbc",
            "20bcc0f54f344b7b9b6d709ef6dfa7e8",
            "45ae62f3bceb4b8ebc0baf8aab7d5166",
            "419ba61a8ddd42ea970d179d36179fd7",
            "8c5c91ac74a84fe781463ea180b049f8",
            "322a1302d56243bbbdd98ea973df1e13",
            "c46f1040a26f4cca9b7238f480ac3df4",
            "184e70f572774cd18c6e21b9e8cc9fcf",
            "bad98e9286f642e3927fd014d1c4a118",
            "5e6c0795f6fa486181bf47324a37227c",
            "b0e94516d0de475592f5ebeff13dc0a7",
            "6ce6cf9df75d4fb0805a05c6da3e9af5",
            "a76d4c623ec64e4b8eee24f4da2e0be3",
            "1a5720be60c449408cf1393b02de9bc0",
            "07af687df5054e34b14a9ba4d3d69b23",
            "fb9bc6156da94b1dad59c77b24b66941",
            "d06aff69eaa24352bce47890f6fb4cd2",
            "a423d36a4e4841f4989e574870ce5f90",
            "1e5daa3b394142cbb4d7fb6be8e3bc00",
            "d3f0f4c7c11847e4924651ac8b6857bd",
            "4380a974fb6e4bc799aff5970cdc8783",
            "09f7a063beb0428c820cb54fdb98e23d",
            "b258f4c04b9e4e3e851849ef298edc1e",
            "2796763b8f9f4b8cb41f14543acbceb5",
            "609b64faee584284a63c4be889953b2e",
            "5c158a825f1f46398f26464e02eb4817",
            "d2cd5a6616ce4ee1a23d1cfa81fe01f9",
            "716540e1ae7a44f9987dda0f8c48aa93",
            "97d8182f0d39428f882b492b31890446",
            "547f5bfd8779404ca0fc6be9334d855b",
            "aa2ecbfa2ab6441aa03c8bea203c7fea",
            "859cf3a0e2964b369a9a7b856a41091a",
            "370e7c30913243e7b273268ebad4bf71"
          ]
        },
        "id": "nPNoN4nDbiI6",
        "outputId": "79ce23ae-3323-46aa-ab86-8cc3cd0c22b8"
      },
      "execution_count": null,
      "outputs": [
        {
          "output_type": "display_data",
          "data": {
            "text/plain": [
              "Downloading:   0%|          | 0.00/28.0 [00:00<?, ?B/s]"
            ],
            "application/vnd.jupyter.widget-view+json": {
              "version_major": 2,
              "version_minor": 0,
              "model_id": "c64efb25f1e84231867257651a2e0fa5"
            }
          },
          "metadata": {}
        },
        {
          "output_type": "display_data",
          "data": {
            "text/plain": [
              "Downloading:   0%|          | 0.00/483 [00:00<?, ?B/s]"
            ],
            "application/vnd.jupyter.widget-view+json": {
              "version_major": 2,
              "version_minor": 0,
              "model_id": "627555dcaaed4f24a4aefc73387f8bbc"
            }
          },
          "metadata": {}
        },
        {
          "output_type": "display_data",
          "data": {
            "text/plain": [
              "Downloading:   0%|          | 0.00/226k [00:00<?, ?B/s]"
            ],
            "application/vnd.jupyter.widget-view+json": {
              "version_major": 2,
              "version_minor": 0,
              "model_id": "6ce6cf9df75d4fb0805a05c6da3e9af5"
            }
          },
          "metadata": {}
        },
        {
          "output_type": "display_data",
          "data": {
            "text/plain": [
              "Downloading:   0%|          | 0.00/455k [00:00<?, ?B/s]"
            ],
            "application/vnd.jupyter.widget-view+json": {
              "version_major": 2,
              "version_minor": 0,
              "model_id": "b258f4c04b9e4e3e851849ef298edc1e"
            }
          },
          "metadata": {}
        }
      ]
    },
    {
      "cell_type": "code",
      "source": [
        "text"
      ],
      "metadata": {
        "colab": {
          "base_uri": "https://localhost:8080/",
          "height": 35
        },
        "id": "DAb0y1eocogs",
        "outputId": "c9ac7370-d66f-4b8a-912e-53e88d9eb8fc"
      },
      "execution_count": null,
      "outputs": [
        {
          "output_type": "execute_result",
          "data": {
            "text/plain": [
              "'Tokenizing text is a core task of NLP.'"
            ],
            "application/vnd.google.colaboratory.intrinsic+json": {
              "type": "string"
            }
          },
          "metadata": {},
          "execution_count": 25
        }
      ]
    },
    {
      "cell_type": "code",
      "source": [
        "tokenizer(text)"
      ],
      "metadata": {
        "colab": {
          "base_uri": "https://localhost:8080/"
        },
        "id": "5jXdkjocdgpN",
        "outputId": "1440eed7-0d61-44cb-823e-bf4a3babb684"
      },
      "execution_count": null,
      "outputs": [
        {
          "output_type": "execute_result",
          "data": {
            "text/plain": [
              "{'input_ids': [101, 19204, 6026, 3793, 2003, 1037, 4563, 4708, 1997, 17953, 2361, 1012, 102], 'attention_mask': [1, 1, 1, 1, 1, 1, 1, 1, 1, 1, 1, 1, 1]}"
            ]
          },
          "metadata": {},
          "execution_count": 26
        }
      ]
    },
    {
      "cell_type": "code",
      "source": [
        "tokens = tokenizer.convert_ids_to_tokens(tokenizer(text)['input_ids'])\n",
        "tokens"
      ],
      "metadata": {
        "colab": {
          "base_uri": "https://localhost:8080/"
        },
        "id": "co3erAXZdj44",
        "outputId": "18e0fdca-4717-4ee3-a4a4-f704f999e366"
      },
      "execution_count": null,
      "outputs": [
        {
          "output_type": "execute_result",
          "data": {
            "text/plain": [
              "['[CLS]',\n",
              " 'token',\n",
              " '##izing',\n",
              " 'text',\n",
              " 'is',\n",
              " 'a',\n",
              " 'core',\n",
              " 'task',\n",
              " 'of',\n",
              " 'nl',\n",
              " '##p',\n",
              " '.',\n",
              " '[SEP]']"
            ]
          },
          "metadata": {},
          "execution_count": 29
        }
      ]
    },
    {
      "cell_type": "code",
      "source": [
        "tokens = tokenizer.convert_ids_to_tokens(tokenizer(text).input_ids)\n",
        "tokens"
      ],
      "metadata": {
        "colab": {
          "base_uri": "https://localhost:8080/"
        },
        "id": "tGqM8qkrd5qV",
        "outputId": "9a62074f-6d87-443d-f739-fffadccfdf3c"
      },
      "execution_count": null,
      "outputs": [
        {
          "output_type": "execute_result",
          "data": {
            "text/plain": [
              "['[CLS]',\n",
              " 'token',\n",
              " '##izing',\n",
              " 'text',\n",
              " 'is',\n",
              " 'a',\n",
              " 'core',\n",
              " 'task',\n",
              " 'of',\n",
              " 'nl',\n",
              " '##p',\n",
              " '.',\n",
              " '[SEP]']"
            ]
          },
          "metadata": {},
          "execution_count": 31
        }
      ]
    },
    {
      "cell_type": "code",
      "source": [
        "tokenizer.convert_tokens_to_ids(tokens)"
      ],
      "metadata": {
        "colab": {
          "base_uri": "https://localhost:8080/"
        },
        "id": "WLG5Vy3WeVs0",
        "outputId": "fd775411-f0e6-404c-afe7-f3617433829b"
      },
      "execution_count": null,
      "outputs": [
        {
          "output_type": "execute_result",
          "data": {
            "text/plain": [
              "[101, 19204, 6026, 3793, 2003, 1037, 4563, 4708, 1997, 17953, 2361, 1012, 102]"
            ]
          },
          "metadata": {},
          "execution_count": 32
        }
      ]
    },
    {
      "cell_type": "code",
      "source": [
        "tokenizer.convert_tokens_to_string(tokens)"
      ],
      "metadata": {
        "colab": {
          "base_uri": "https://localhost:8080/",
          "height": 35
        },
        "id": "nfjNqyvPgMC2",
        "outputId": "2ac15407-f315-4710-ecd2-798bec39dbd7"
      },
      "execution_count": null,
      "outputs": [
        {
          "output_type": "execute_result",
          "data": {
            "text/plain": [
              "'[CLS] tokenizing text is a core task of nlp. [SEP]'"
            ],
            "application/vnd.google.colaboratory.intrinsic+json": {
              "type": "string"
            }
          },
          "metadata": {},
          "execution_count": 33
        }
      ]
    },
    {
      "cell_type": "code",
      "source": [
        "tokenizer.model_max_length"
      ],
      "metadata": {
        "colab": {
          "base_uri": "https://localhost:8080/"
        },
        "id": "sWANybasgk1O",
        "outputId": "b2ac7889-1100-48f9-c38f-736a077c27e9"
      },
      "execution_count": null,
      "outputs": [
        {
          "output_type": "execute_result",
          "data": {
            "text/plain": [
              "512"
            ]
          },
          "metadata": {},
          "execution_count": 35
        }
      ]
    },
    {
      "cell_type": "code",
      "source": [
        "tokenizer.model_input_names"
      ],
      "metadata": {
        "colab": {
          "base_uri": "https://localhost:8080/"
        },
        "id": "fm7q5JFVkThY",
        "outputId": "d73dcbc6-2d3f-48cb-ccf4-a43b343311a8"
      },
      "execution_count": null,
      "outputs": [
        {
          "output_type": "execute_result",
          "data": {
            "text/plain": [
              "['input_ids', 'attention_mask']"
            ]
          },
          "metadata": {},
          "execution_count": 36
        }
      ]
    },
    {
      "cell_type": "code",
      "source": [
        "from transformers import AutoModel \n",
        "model_ckpt = \"distilbert-base-uncased\"\n",
        "device = torch.device(\"cuda\" if torch.cuda.is_available() else \"cpu\") \n",
        "model = AutoModel.from_pretrained(model_ckpt).to(device)"
      ],
      "metadata": {
        "colab": {
          "base_uri": "https://localhost:8080/",
          "height": 121,
          "referenced_widgets": [
            "eeef0c4b71a3460cb0f5aeeb1fb8e686",
            "6f81757468ca473aa562d54bbac4f6a9",
            "f82892ee6e3c41f182b9eb9882b0dffd",
            "f23348b587954195aa7a7da11cc22067",
            "cb3d5bb8ac8e49ffac0a0fa7162c2623",
            "8d6940f0c9824d63b9584470615472e2",
            "412ed9c1f40348428ae12264bbdaae25",
            "a86b9895f0644453b0e1c58b5fd29395",
            "d198343a19f844e694adec8872aecacc",
            "1d6a817198a44f77923ea522d6050ae2",
            "becf6f4f68dc42798e85507a1cdd7000"
          ]
        },
        "id": "yb89d55EkdKg",
        "outputId": "292358f8-ad79-490e-dd1f-87aec4c044b9"
      },
      "execution_count": null,
      "outputs": [
        {
          "output_type": "display_data",
          "data": {
            "text/plain": [
              "Downloading:   0%|          | 0.00/256M [00:00<?, ?B/s]"
            ],
            "application/vnd.jupyter.widget-view+json": {
              "version_major": 2,
              "version_minor": 0,
              "model_id": "eeef0c4b71a3460cb0f5aeeb1fb8e686"
            }
          },
          "metadata": {}
        },
        {
          "output_type": "stream",
          "name": "stderr",
          "text": [
            "Some weights of the model checkpoint at distilbert-base-uncased were not used when initializing DistilBertModel: ['vocab_layer_norm.bias', 'vocab_projector.bias', 'vocab_projector.weight', 'vocab_layer_norm.weight', 'vocab_transform.weight', 'vocab_transform.bias']\n",
            "- This IS expected if you are initializing DistilBertModel from the checkpoint of a model trained on another task or with another architecture (e.g. initializing a BertForSequenceClassification model from a BertForPreTraining model).\n",
            "- This IS NOT expected if you are initializing DistilBertModel from the checkpoint of a model that you expect to be exactly identical (initializing a BertForSequenceClassification model from a BertForSequenceClassification model).\n"
          ]
        }
      ]
    },
    {
      "cell_type": "code",
      "source": [
        "text = \"This is a test\"\n",
        "inputs = tokenizer(text, return_tensors=\"pt\")\n",
        "inputs\n",
        "print(f\"Input tensor shape {inputs.input_ids.size()} \") # batch * tokens"
      ],
      "metadata": {
        "colab": {
          "base_uri": "https://localhost:8080/"
        },
        "id": "xhJ8LoSOnUdC",
        "outputId": "9f9aea2f-0746-45c3-8fc1-2913748c4389"
      },
      "execution_count": null,
      "outputs": [
        {
          "output_type": "stream",
          "name": "stdout",
          "text": [
            "Input tensor shape torch.Size([1, 6]) \n"
          ]
        }
      ]
    },
    {
      "cell_type": "code",
      "source": [
        "inputs"
      ],
      "metadata": {
        "colab": {
          "base_uri": "https://localhost:8080/"
        },
        "id": "XcO-uJ6mtDD8",
        "outputId": "53778d88-72a6-4a69-a815-e843fc4ae0de"
      },
      "execution_count": null,
      "outputs": [
        {
          "output_type": "execute_result",
          "data": {
            "text/plain": [
              "{'input_ids': tensor([[ 101, 2023, 2003, 1037, 3231,  102]]), 'attention_mask': tensor([[1, 1, 1, 1, 1, 1]])}"
            ]
          },
          "metadata": {},
          "execution_count": 42
        }
      ]
    },
    {
      "cell_type": "code",
      "source": [
        "inputs[\"input_ids\"]"
      ],
      "metadata": {
        "colab": {
          "base_uri": "https://localhost:8080/"
        },
        "id": "fUUxQ6MotUiy",
        "outputId": "1d5cdff3-1129-41ac-eb0c-16cb0e97163a"
      },
      "execution_count": null,
      "outputs": [
        {
          "output_type": "execute_result",
          "data": {
            "text/plain": [
              "tensor([[ 101, 2023, 2003, 1037, 3231,  102]])"
            ]
          },
          "metadata": {},
          "execution_count": 47
        }
      ]
    },
    {
      "cell_type": "code",
      "source": [
        "inputs.input_ids"
      ],
      "metadata": {
        "colab": {
          "base_uri": "https://localhost:8080/"
        },
        "id": "wphj2Ahft7kT",
        "outputId": "0b566025-bc1b-486b-ba99-9fbba81d408e"
      },
      "execution_count": null,
      "outputs": [
        {
          "output_type": "execute_result",
          "data": {
            "text/plain": [
              "tensor([[ 101, 2023, 2003, 1037, 3231,  102]])"
            ]
          },
          "metadata": {},
          "execution_count": 48
        }
      ]
    },
    {
      "cell_type": "code",
      "source": [
        "for i,j in inputs.items():\n",
        "  print(j)\n"
      ],
      "metadata": {
        "colab": {
          "base_uri": "https://localhost:8080/"
        },
        "id": "A-MtTBlCuF60",
        "outputId": "a0144c53-e5dd-4c57-b6bd-ec3a2cf3deb3"
      },
      "execution_count": null,
      "outputs": [
        {
          "output_type": "stream",
          "name": "stdout",
          "text": [
            "tensor([[ 101, 2023, 2003, 1037, 3231,  102]])\n",
            "tensor([[1, 1, 1, 1, 1, 1]])\n"
          ]
        }
      ]
    },
    {
      "cell_type": "code",
      "source": [
        "for i,j in inputs.items():\n",
        "  print(i)"
      ],
      "metadata": {
        "colab": {
          "base_uri": "https://localhost:8080/"
        },
        "id": "A7dErRSfx_ZO",
        "outputId": "4c4e2289-9923-49f4-a058-b7eb8721d304"
      },
      "execution_count": null,
      "outputs": [
        {
          "output_type": "stream",
          "name": "stdout",
          "text": [
            "input_ids\n",
            "attention_mask\n"
          ]
        }
      ]
    },
    {
      "cell_type": "code",
      "source": [
        "inputs.items()"
      ],
      "metadata": {
        "colab": {
          "base_uri": "https://localhost:8080/"
        },
        "id": "tqby3QXkzytW",
        "outputId": "4e89fc13-0a23-4806-e943-5d7422ae8f3c"
      },
      "execution_count": null,
      "outputs": [
        {
          "output_type": "execute_result",
          "data": {
            "text/plain": [
              "dict_items([('input_ids', tensor([[ 101, 2023, 2003, 1037, 3231,  102]])), ('attention_mask', tensor([[1, 1, 1, 1, 1, 1]]))])"
            ]
          },
          "metadata": {},
          "execution_count": 56
        }
      ]
    },
    {
      "cell_type": "code",
      "source": [
        "inputs.values()"
      ],
      "metadata": {
        "colab": {
          "base_uri": "https://localhost:8080/"
        },
        "id": "RoDMLSzC0V0m",
        "outputId": "5949804f-5150-4882-c33c-b6d410c0c22f"
      },
      "execution_count": null,
      "outputs": [
        {
          "output_type": "execute_result",
          "data": {
            "text/plain": [
              "dict_values([tensor([[ 101, 2023, 2003, 1037, 3231,  102]]), tensor([[1, 1, 1, 1, 1, 1]])])"
            ]
          },
          "metadata": {},
          "execution_count": 57
        }
      ]
    },
    {
      "cell_type": "code",
      "source": [
        "inputs.keys()"
      ],
      "metadata": {
        "colab": {
          "base_uri": "https://localhost:8080/"
        },
        "id": "idIP-vck0X6K",
        "outputId": "d198d8cf-49a3-431c-c0a6-3d6b0f01a41f"
      },
      "execution_count": null,
      "outputs": [
        {
          "output_type": "execute_result",
          "data": {
            "text/plain": [
              "dict_keys(['input_ids', 'attention_mask'])"
            ]
          },
          "metadata": {},
          "execution_count": 58
        }
      ]
    },
    {
      "cell_type": "code",
      "source": [
        "inputs.to(device)"
      ],
      "metadata": {
        "colab": {
          "base_uri": "https://localhost:8080/"
        },
        "id": "GxObS5Eh0htW",
        "outputId": "16dca0d0-7b69-4ab7-9e6b-2500e75a78f7"
      },
      "execution_count": null,
      "outputs": [
        {
          "output_type": "execute_result",
          "data": {
            "text/plain": [
              "{'input_ids': tensor([[ 101, 2023, 2003, 1037, 3231,  102]]), 'attention_mask': tensor([[1, 1, 1, 1, 1, 1]])}"
            ]
          },
          "metadata": {},
          "execution_count": 59
        }
      ]
    },
    {
      "cell_type": "code",
      "source": [
        "inputs = {k:v.to(device) for k,v in inputs.items()}\n",
        "with torch.no_grad():\n",
        "  outputs = model(**inputs)\n",
        "print(outputs)"
      ],
      "metadata": {
        "colab": {
          "base_uri": "https://localhost:8080/"
        },
        "id": "dewnlAVv02Cu",
        "outputId": "5312a064-ce37-490e-e0fb-e4e024aa4407"
      },
      "execution_count": null,
      "outputs": [
        {
          "output_type": "stream",
          "name": "stdout",
          "text": [
            "BaseModelOutput(last_hidden_state=tensor([[[-0.1565, -0.1862,  0.0528,  ..., -0.1188,  0.0662,  0.5470],\n",
            "         [-0.3575, -0.6484, -0.0618,  ..., -0.3040,  0.3508,  0.5221],\n",
            "         [-0.2772, -0.4459,  0.1818,  ..., -0.0948, -0.0076,  0.9958],\n",
            "         [-0.2841, -0.3917,  0.3753,  ..., -0.2151, -0.1173,  1.0526],\n",
            "         [ 0.2661, -0.5094, -0.3180,  ..., -0.4203,  0.0144, -0.2149],\n",
            "         [ 0.9441,  0.0112, -0.4714,  ...,  0.1439, -0.7288, -0.1619]]]), hidden_states=None, attentions=None)\n"
          ]
        }
      ]
    },
    {
      "cell_type": "code",
      "source": [
        "outputs.last_hidden_state.size()"
      ],
      "metadata": {
        "colab": {
          "base_uri": "https://localhost:8080/"
        },
        "id": "GUrceU1S05TG",
        "outputId": "711b3893-b9a8-4d25-c09f-54de7f3ff126"
      },
      "execution_count": null,
      "outputs": [
        {
          "output_type": "execute_result",
          "data": {
            "text/plain": [
              "torch.Size([1, 6, 768])"
            ]
          },
          "metadata": {},
          "execution_count": 69
        }
      ]
    },
    {
      "cell_type": "code",
      "source": [
        "outputs.last_hidden_state"
      ],
      "metadata": {
        "colab": {
          "base_uri": "https://localhost:8080/"
        },
        "id": "bT40o-FU135P",
        "outputId": "63f4580e-3d5c-4217-e1be-335a680d335a"
      },
      "execution_count": null,
      "outputs": [
        {
          "output_type": "execute_result",
          "data": {
            "text/plain": [
              "tensor([[[-0.1565, -0.1862,  0.0528,  ..., -0.1188,  0.0662,  0.5470],\n",
              "         [-0.3575, -0.6484, -0.0618,  ..., -0.3040,  0.3508,  0.5221],\n",
              "         [-0.2772, -0.4459,  0.1818,  ..., -0.0948, -0.0076,  0.9958],\n",
              "         [-0.2841, -0.3917,  0.3753,  ..., -0.2151, -0.1173,  1.0526],\n",
              "         [ 0.2661, -0.5094, -0.3180,  ..., -0.4203,  0.0144, -0.2149],\n",
              "         [ 0.9441,  0.0112, -0.4714,  ...,  0.1439, -0.7288, -0.1619]]])"
            ]
          },
          "metadata": {},
          "execution_count": 88
        }
      ]
    },
    {
      "cell_type": "code",
      "source": [
        "outputs.last_hidden_state[0][1]"
      ],
      "metadata": {
        "colab": {
          "base_uri": "https://localhost:8080/"
        },
        "id": "bqL9wEiyKeN8",
        "outputId": "ff09e11f-d14f-464b-8358-2d18290d01c8"
      },
      "execution_count": null,
      "outputs": [
        {
          "output_type": "execute_result",
          "data": {
            "text/plain": [
              "tensor([-3.5751e-01, -6.4836e-01, -6.1790e-02, -2.8463e-01,  6.8015e-01,\n",
              "        -2.5736e-01,  1.1974e-01,  8.8491e-01,  1.1025e-01, -1.2572e-01,\n",
              "        -2.8428e-01, -5.2568e-01,  9.8690e-02,  2.3059e-01,  3.3707e-01,\n",
              "         4.8245e-01,  2.4688e-01, -2.3715e-02,  6.1106e-03, -3.1856e-01,\n",
              "         2.6085e-01,  4.0520e-03, -4.6232e-01,  5.6343e-01,  8.3658e-01,\n",
              "        -4.8457e-01,  3.0378e-01,  1.2760e-01, -2.5251e-01, -1.6081e-01,\n",
              "        -2.0462e-02,  3.0950e-01,  4.9401e-02, -3.0529e-01, -3.0680e-02,\n",
              "         3.5665e-02,  2.4083e-01, -1.5549e-01, -1.8375e-01,  4.7535e-01,\n",
              "        -1.0655e-01, -2.8779e-01,  6.4836e-01, -7.9256e-02, -2.7423e-02,\n",
              "        -5.9460e-01,  7.5190e-02, -5.3681e-01, -1.3572e-01, -5.9539e-01,\n",
              "        -4.4469e-01,  4.9801e-01, -1.0298e-01,  5.2795e-01, -3.2604e-01,\n",
              "         2.7700e-01, -1.5229e-03, -4.3906e-01, -3.4098e-01,  8.0647e-02,\n",
              "         7.5659e-01, -3.6517e-02,  2.8703e-01, -3.1435e-01,  4.4841e-01,\n",
              "         2.6905e-01,  1.0724e-01,  3.4504e-01, -7.0105e-01, -3.6161e-01,\n",
              "        -6.4378e-01, -6.1356e-01, -2.7289e-01,  3.3670e-02,  1.2060e-01,\n",
              "         2.6167e-02,  1.0143e-01, -9.3792e-02, -4.2525e-01, -4.7297e-01,\n",
              "         1.6445e-01,  8.9780e-01,  1.7507e-01,  2.1322e-01, -8.4951e-02,\n",
              "         3.3049e-01, -7.5764e-01,  1.8982e-01, -4.9090e-01,  7.0812e-01,\n",
              "        -1.9730e-01, -1.9627e-01, -1.7851e-01, -9.2098e-02,  2.1621e-01,\n",
              "        -1.1561e+00,  1.2529e-01, -1.9980e-01,  2.9939e-01, -2.8684e-01,\n",
              "        -2.1950e-01, -1.8357e+00,  1.3443e-02, -3.1743e-01,  1.8971e-01,\n",
              "        -4.5542e-01,  1.1172e-01,  4.8973e-01,  1.2521e-01, -9.0021e-01,\n",
              "        -4.0130e-02,  1.9907e-01,  5.6316e-02, -4.5773e-01, -4.2160e-01,\n",
              "         8.8998e-01,  2.5947e-01,  1.7995e-01, -4.5168e-02,  2.3484e-01,\n",
              "        -4.8760e-01,  3.7407e-01,  2.8491e-01,  4.9298e-01,  3.2434e-02,\n",
              "         4.0931e-01,  2.6274e-01,  9.0613e-01,  1.6918e-01, -4.5676e-01,\n",
              "         2.2129e-01,  1.0712e+00,  8.2097e-01, -5.0650e-01, -4.6271e-01,\n",
              "        -2.0924e-01,  1.4155e-02, -4.3011e-01, -7.4707e-01,  2.2014e-01,\n",
              "         3.7843e-01,  4.2628e-01,  2.7863e-01,  5.6104e-03,  3.1369e-01,\n",
              "         1.8791e-02, -6.9022e-01, -8.0183e-01,  2.9755e-02,  3.2623e-01,\n",
              "         6.2220e-02,  3.0175e-01, -5.4585e-01, -4.3677e-01, -3.0057e-02,\n",
              "         5.8309e-02, -6.0233e-03,  4.5971e-01,  3.6220e-02,  3.4385e-02,\n",
              "         5.7125e-01, -8.9855e-03,  3.5016e-01,  4.6641e-01, -7.4735e-02,\n",
              "        -3.7460e-01,  1.1930e-01, -1.8698e-01,  7.1902e-02, -1.2853e-01,\n",
              "        -1.4791e-01, -9.4040e-01,  5.4087e-01,  1.8300e-01, -3.2560e-01,\n",
              "        -4.2206e-02,  5.3007e-01, -1.8845e-01,  4.4461e-01,  6.4896e-02,\n",
              "        -6.8146e-01,  5.7121e-01, -1.3173e-01, -3.0094e-01,  4.6765e-01,\n",
              "        -7.8034e-02,  4.8227e-01, -6.3182e-01, -1.3838e-01,  7.2650e-01,\n",
              "        -4.0239e-01,  2.2682e-01,  2.1767e-01, -6.4486e-01,  8.4793e-01,\n",
              "        -4.2627e-01, -1.9720e-01, -5.7417e-01, -2.6230e-02,  1.4057e-01,\n",
              "        -8.7209e-02,  4.6872e-01,  1.3926e-01,  2.8034e-01, -4.7531e-01,\n",
              "         9.3608e-01,  5.0648e-02, -1.0540e-01,  4.1240e-01, -2.5025e-01,\n",
              "        -2.6106e-01,  9.2910e-01, -2.6175e-01, -5.8817e-01,  4.7731e-01,\n",
              "         3.0064e-01, -2.3349e-01,  1.6902e-01,  5.9040e-01, -1.1293e-01,\n",
              "         2.9383e-01, -6.1183e-02, -2.0314e-01,  8.5044e-01, -1.4915e-01,\n",
              "         1.0105e+00,  4.0526e-01,  3.5849e-01,  4.9220e-01, -2.1342e-01,\n",
              "        -1.6791e-01, -4.6714e-01,  1.2871e-01,  2.4028e-01,  5.1450e-02,\n",
              "         8.0994e-01, -6.9075e-02, -8.9801e-02, -3.3792e-01,  2.0319e-01,\n",
              "        -7.3108e-02,  5.7154e-01,  9.7944e-03,  4.9147e-01, -4.5608e-01,\n",
              "        -3.7033e-01,  8.0816e-02, -3.1697e-01, -3.8909e-01, -4.8952e-01,\n",
              "        -1.1615e-01, -1.8224e-01, -3.2679e-01, -8.2438e-01, -3.2220e-01,\n",
              "         1.1466e-01, -3.3105e-01,  2.3923e-01,  1.5947e-01,  4.9554e-01,\n",
              "        -1.5830e-01, -3.6334e-02,  2.0754e-01,  3.3287e-01, -1.0283e+00,\n",
              "        -9.7167e-02, -6.0927e-01,  6.4467e-01,  2.6723e-01,  7.0687e-01,\n",
              "        -4.1154e-01, -5.9855e-01,  6.6954e-02, -7.4353e-01, -7.6017e-01,\n",
              "        -4.5784e-01,  2.5366e-01,  2.8454e-01, -3.1105e-01,  1.8752e-01,\n",
              "         2.9430e-01,  1.2885e+00, -2.0983e-01,  5.7875e-01, -7.5698e-03,\n",
              "        -5.7245e-01,  4.2798e-01, -5.1182e-01,  7.8127e-02, -1.9133e-01,\n",
              "        -3.5706e-01,  5.5378e-01, -5.8277e-01, -6.3795e-01,  2.5876e-01,\n",
              "         1.2484e-01,  4.6162e-01, -2.1766e-01,  1.7606e-03, -5.2780e-01,\n",
              "         2.5521e-02, -5.9353e-01, -1.4221e-01, -3.9827e-02, -5.4007e-02,\n",
              "         2.4646e-01, -6.0742e-01, -5.8888e-01, -3.9721e+00,  3.4622e-02,\n",
              "        -2.4762e-01, -3.8378e-02, -1.6598e-01, -1.6847e-01,  1.5272e-01,\n",
              "        -2.5135e-01, -4.0430e-01,  3.2805e-02, -4.8916e-01, -5.3433e-01,\n",
              "        -3.2129e-01,  7.5970e-01,  1.5945e-01,  6.2633e-02,  1.9105e-01,\n",
              "         2.2511e-01,  8.9954e-02,  7.2806e-01, -2.3364e-01, -3.8283e-01,\n",
              "        -1.4756e-01, -3.4849e-01, -3.4861e-01,  8.4403e-01, -6.0167e-01,\n",
              "         2.8384e-01, -7.5412e-01,  2.6721e-01,  3.5553e-01, -3.1843e-01,\n",
              "         3.8397e-01,  4.8137e-02, -9.6091e-02,  2.2340e-01, -4.7817e-02,\n",
              "        -5.1121e-01,  3.6448e-01, -2.9700e-01, -1.9993e-01,  5.0713e-02,\n",
              "         5.8512e-01,  1.4602e-01,  5.3855e-01, -9.0851e-02,  2.8108e-02,\n",
              "        -2.6569e-01,  9.8854e-02,  3.3922e-01, -5.5353e-01, -9.6088e-02,\n",
              "         4.2045e-01,  2.2962e-01, -3.2691e-01, -2.3651e-01, -9.3750e-03,\n",
              "         5.3419e-02,  2.9739e-01, -1.3662e-02,  2.8254e-01, -4.6197e-01,\n",
              "        -3.1135e-01, -4.3423e-01, -2.5596e-01, -7.8062e-01,  1.0074e-01,\n",
              "        -4.5015e-01,  1.1880e-01,  1.0273e-01, -5.1327e-01,  2.1444e-02,\n",
              "        -1.5691e-02, -1.4361e+00, -4.2696e-01, -6.4798e-01,  1.4469e-01,\n",
              "        -9.6701e-02,  9.3293e-01, -3.1310e-01, -5.6240e-01, -6.4929e-01,\n",
              "         1.9082e-01,  3.0741e-01,  3.4285e-01, -1.8021e-01,  4.6446e-01,\n",
              "        -9.3454e-02, -5.0276e-01, -5.5448e-04, -5.4636e-01,  1.0062e+00,\n",
              "         1.1875e-01,  3.8041e-01, -5.7473e-02,  2.8025e-01,  7.1398e-02,\n",
              "        -8.1277e-01,  2.6316e-01, -2.4836e-03, -1.1235e-02, -2.8143e-01,\n",
              "         4.3748e-01, -1.5615e-01,  5.5687e-01, -2.2708e-01, -4.1851e-01,\n",
              "         6.2706e-01,  3.2529e-01,  5.1874e-01, -4.7530e-01, -4.0535e-01,\n",
              "        -3.6390e-02, -4.6987e-01, -1.0102e-01,  4.4026e-01, -3.6764e-01,\n",
              "         4.0985e-01,  5.3118e-01, -6.2875e-03,  2.5816e-01,  7.6847e-01,\n",
              "        -8.8355e-01, -5.7478e-01, -7.6929e-01,  3.7880e-01,  9.3136e-02,\n",
              "         3.4205e-01, -9.1970e-01,  3.2055e-01, -8.0369e-01, -3.9080e-02,\n",
              "        -6.9139e-01, -4.6963e-02,  4.6626e-01, -2.7891e-01, -6.2007e-01,\n",
              "         7.0080e-01,  8.8026e-01, -3.3435e-01,  3.0739e-01,  6.6620e-01,\n",
              "        -8.3704e-02,  3.6005e-01,  2.6569e-01,  7.6765e-01, -2.0290e-01,\n",
              "        -4.2641e-01, -3.4626e-01, -8.9167e-02, -2.2640e-02, -2.5590e-01,\n",
              "        -2.0423e-04, -6.9155e-01,  2.6494e-01, -2.7247e-01,  6.8650e-01,\n",
              "         1.4428e-01,  1.6123e-01, -3.2021e-01, -3.4451e-01,  3.5990e-01,\n",
              "        -5.3282e-01, -1.7209e-01,  3.6533e-01,  5.9040e-01,  2.1872e-02,\n",
              "        -5.8928e-02, -3.3602e-01,  2.9951e-01, -3.4634e-01, -6.5831e-02,\n",
              "         1.6490e-01, -4.5319e-01,  3.1983e-02,  1.7595e-01, -6.6933e-02,\n",
              "        -1.0553e-01,  2.8811e-01,  3.4808e-01,  7.4679e-02,  2.7056e-02,\n",
              "         2.4255e-01,  4.4872e-01,  2.6440e-01,  2.9597e-01, -4.6887e-01,\n",
              "        -1.7125e-01, -3.3927e-01,  6.8696e-01,  4.0580e-02,  2.0265e-01,\n",
              "        -4.4093e-01, -3.1043e-01, -9.2631e-01, -3.0746e-01, -2.7060e-01,\n",
              "        -4.7580e-01,  5.5730e-01,  1.5894e-01,  4.7548e-01,  6.2787e-01,\n",
              "        -4.1587e-01, -1.8529e-01,  1.3871e-01,  3.4147e-01,  2.5764e-01,\n",
              "         7.7181e-01, -5.8824e-02,  5.1293e-02, -7.1848e-01, -5.8780e-01,\n",
              "        -2.1383e-01, -6.9992e-01, -4.0075e-01, -3.6380e-01, -2.3121e-01,\n",
              "         4.1557e-01, -1.5618e-01, -4.1563e-01, -2.4421e-01, -1.3279e-01,\n",
              "        -1.3441e-01,  2.4196e-01, -1.7751e-01, -2.7527e-01,  2.2456e-01,\n",
              "        -9.0213e-01,  1.2135e-01, -7.6566e-02, -2.5223e-01, -3.9550e-01,\n",
              "         4.6969e-01,  8.8663e-02,  1.3559e-01, -7.3462e-01, -1.0380e+00,\n",
              "         7.7206e-02, -1.5303e-01, -1.7932e-01,  2.4740e-01, -4.0514e-01,\n",
              "         2.6211e-01, -3.1208e-01, -3.5524e-01, -5.8785e-01,  7.6674e-02,\n",
              "         2.8267e-01, -6.6033e-02,  4.6311e-01,  8.3608e-02,  4.7735e-01,\n",
              "        -3.1367e-01, -1.9219e-01,  4.4557e-01, -5.1486e-01,  3.9228e-01,\n",
              "         2.9187e-01,  5.0153e-02,  9.7725e-02,  3.5408e-01, -1.3527e-01,\n",
              "         1.0088e-01,  7.8836e-01, -2.9843e-01,  4.2764e-01,  1.9911e-01,\n",
              "         2.8666e-01, -1.5470e-02,  5.1250e-01, -5.0476e-01, -1.1024e-01,\n",
              "         1.5924e-01,  5.0408e-01,  1.3602e-01, -5.0659e-01,  4.1887e-01,\n",
              "        -1.1310e-01, -3.4683e-01,  1.3606e-02,  5.2964e-01,  8.6526e-01,\n",
              "        -2.7584e-01, -8.4388e-02, -1.2205e-01,  4.7719e-03,  2.0712e-02,\n",
              "         2.0188e-01,  4.2280e-01,  1.9665e-01, -3.4249e-01, -1.0713e-01,\n",
              "         4.3437e-02,  4.3050e-01, -2.5568e-02, -3.4092e-02,  5.4610e-01,\n",
              "         2.8323e-01, -5.3785e-02,  4.5135e-02,  1.0608e-01,  4.8946e-01,\n",
              "        -4.2993e-02,  6.5400e-01, -3.4989e-01,  3.4076e-03,  5.8919e-01,\n",
              "         1.5589e-01, -8.3796e-02,  1.1423e-01,  1.9111e-01,  4.3908e-02,\n",
              "        -9.0222e-02,  3.1091e-01, -3.1286e-01,  3.2870e-02,  4.7254e-01,\n",
              "        -6.0588e-01, -7.1134e-02,  2.6801e-01, -1.3385e-01, -5.6885e-01,\n",
              "         1.4299e-01, -4.6684e-01, -2.5504e-01,  4.5310e-01, -6.2245e-01,\n",
              "        -7.5448e-02, -2.3280e-01,  9.9534e-03,  3.2871e-01,  4.8054e-01,\n",
              "        -4.3555e-01,  9.4722e-01, -6.2694e-01,  2.0393e-01,  3.4051e-02,\n",
              "        -7.3518e-01,  2.4747e-01, -1.0741e-01, -1.9266e-01,  4.1897e-01,\n",
              "         7.1352e-01,  9.8102e-01, -5.8872e-02, -6.1574e-03, -1.7651e-01,\n",
              "         3.0299e-01, -3.5138e-01,  3.6025e-01,  1.7779e-01,  2.8051e-01,\n",
              "         4.7353e-02, -2.1329e-01,  3.5660e-01,  6.2477e-01,  5.7066e-01,\n",
              "         5.2024e-01,  2.7750e-01, -4.2820e-01,  1.1841e-01, -1.2903e-01,\n",
              "         5.8801e-01, -3.1858e-01, -6.4450e-02,  4.5541e-01,  5.7980e-01,\n",
              "         1.2973e-01, -5.9674e-02,  1.4862e-01, -1.1356e-01,  1.9296e-01,\n",
              "         7.0401e-02,  2.5416e-01,  2.8795e-02,  6.4868e-01,  2.4847e-01,\n",
              "         3.9296e-02, -1.7105e-01, -6.1403e-01,  1.8008e-01,  3.9567e-01,\n",
              "        -3.7486e-01, -8.3358e-01, -4.4735e-01, -5.6450e-01,  1.1364e-01,\n",
              "         3.0892e-01,  3.9283e-02, -1.6506e-01,  1.6097e-01, -3.4802e-01,\n",
              "         2.0926e-02, -2.3506e-01,  2.9588e-01, -3.8665e-01, -3.1008e-01,\n",
              "         3.1526e-01,  6.7390e-01, -5.0376e-01,  5.8850e-01, -5.5303e-04,\n",
              "         2.8630e-02, -5.9475e-01, -2.6290e-01,  5.5639e-01, -3.4510e-01,\n",
              "         8.4258e-01, -5.1706e-01, -3.2148e-01,  6.1459e-01,  4.4224e-01,\n",
              "        -4.5500e-01, -4.3297e-01, -5.2080e-01,  4.9462e-01,  3.3369e-01,\n",
              "        -3.2414e-01, -4.1310e-01,  1.8193e-01, -6.2461e-01, -2.6239e-01,\n",
              "        -1.6249e-01,  6.2372e-01, -2.3376e-01, -4.0052e-01,  2.5679e-01,\n",
              "        -4.8753e-02, -5.3111e-01, -3.1080e-01,  2.6599e-01,  3.2962e-01,\n",
              "         1.6368e-01, -1.2769e-01,  1.5080e-01, -7.9483e-01,  4.9204e-01,\n",
              "         4.2456e-02,  3.0019e-01, -4.4506e-01, -6.5364e-02,  5.6186e-01,\n",
              "         1.9700e-01,  4.9119e-01, -1.2201e+00, -2.4456e-01, -5.1471e-01,\n",
              "        -1.0692e+00,  5.5411e-01,  1.7324e-02,  8.9489e-01, -7.2891e-02,\n",
              "         3.4876e-01, -3.0871e-01, -4.3991e-01,  5.6558e-01, -7.2028e-02,\n",
              "        -3.0402e-01,  3.5077e-01,  5.2207e-01])"
            ]
          },
          "metadata": {},
          "execution_count": 112
        }
      ]
    },
    {
      "cell_type": "code",
      "source": [
        "outputs.last_hidden_state[:,1].size()"
      ],
      "metadata": {
        "colab": {
          "base_uri": "https://localhost:8080/"
        },
        "id": "VP47GCcb4WoY",
        "outputId": "73fcd383-cf4e-4f61-d521-4fd45fdc5a1a"
      },
      "execution_count": null,
      "outputs": [
        {
          "output_type": "execute_result",
          "data": {
            "text/plain": [
              "torch.Size([1, 768])"
            ]
          },
          "metadata": {},
          "execution_count": 102
        }
      ]
    },
    {
      "cell_type": "code",
      "source": [
        "outputs.last_hidden_state[:,0]"
      ],
      "metadata": {
        "colab": {
          "base_uri": "https://localhost:8080/"
        },
        "id": "_QE8SZxIHzQO",
        "outputId": "7ca8b4a5-35cd-45e0-8789-727137a2a1e8"
      },
      "execution_count": null,
      "outputs": [
        {
          "output_type": "execute_result",
          "data": {
            "text/plain": [
              "tensor([[-1.5651e-01, -1.8620e-01,  5.2777e-02, -1.0634e-01, -1.3163e-02,\n",
              "         -2.6944e-01,  9.2270e-02,  1.5865e-01, -9.8674e-02, -2.9572e-01,\n",
              "         -1.3788e-01, -3.8061e-02, -5.3617e-02,  1.3045e-01,  3.9713e-02,\n",
              "          8.6894e-02,  2.5087e-02,  8.6176e-03,  2.5243e-01, -1.3678e-01,\n",
              "         -1.2137e-01, -1.3896e-01, -1.3426e-01, -9.0844e-02,  3.0509e-02,\n",
              "         -3.8619e-02,  1.1486e-01, -5.7997e-02,  1.0131e-01,  9.7920e-02,\n",
              "          3.8741e-03,  1.1950e-01, -6.6339e-02, -2.1257e-02,  1.3090e-01,\n",
              "          2.6520e-02,  2.3624e-01,  5.0220e-02,  1.3503e-02, -2.1379e-02,\n",
              "         -8.8323e-02, -9.8360e-02,  2.2675e-01, -2.4940e-02, -1.6261e-01,\n",
              "         -8.3787e-02, -1.9629e+00, -1.4541e-01, -1.5582e-01, -3.5487e-01,\n",
              "         -4.5972e-02,  2.0034e-01,  1.3080e-02,  4.9650e-01,  1.0587e-01,\n",
              "          1.2080e-01, -1.9118e-01,  3.8280e-01,  1.7121e-02, -1.6628e-02,\n",
              "          2.1525e-01,  4.4381e-02,  3.9334e-03,  3.5416e-02,  1.2238e-01,\n",
              "          2.1459e-01,  1.5014e-02,  2.3729e-02, -2.0037e-01,  2.9482e-01,\n",
              "         -4.0111e-01, -1.5827e-01, -1.8380e-03,  9.3304e-02, -3.3879e-02,\n",
              "         -1.5265e-01, -1.5221e-02,  4.1115e-02, -9.3805e-02,  7.3235e-02,\n",
              "         -2.6978e-02,  2.3517e-01,  1.9567e-01, -9.4397e-02,  1.5616e-01,\n",
              "          8.4622e-02, -9.8347e-02,  1.0431e-02,  2.0574e-02,  5.4993e-01,\n",
              "         -4.9989e-02,  1.1182e-01, -5.6723e-02,  1.0938e-01,  2.4215e-01,\n",
              "         -3.1020e-01,  9.0788e-02, -1.3782e-01,  3.6213e-01,  2.0996e-01,\n",
              "         -4.6878e-02, -4.4244e-01,  1.0990e-01, -2.8309e-01,  1.1767e-01,\n",
              "         -2.1761e-01, -3.6113e-02,  1.4839e-02, -8.4058e-02, -2.6364e+00,\n",
              "          1.8471e-01,  2.3530e-01, -7.0573e-03, -3.1433e-01, -1.7030e-01,\n",
              "          3.7370e-01,  1.5747e-01,  6.3197e-02,  1.6010e-01,  7.4900e-02,\n",
              "         -3.0234e-01,  6.0412e-01, -1.0714e-03,  1.2461e-02,  1.3152e-03,\n",
              "          3.2261e-01,  1.5119e-01,  1.8443e-01, -1.8307e-03,  5.5242e-02,\n",
              "          1.7249e-01,  3.6644e-01,  2.7258e-01, -1.2720e-02, -3.0868e-01,\n",
              "         -1.1246e-02, -1.0711e-01, -9.7186e-02, -3.2671e-01,  4.6447e-02,\n",
              "         -1.5892e-01, -3.5323e-02, -2.9621e+00,  2.8953e-01,  3.5626e-01,\n",
              "         -2.3008e-02, -2.3858e-01, -2.5866e-01,  1.0932e-01,  2.4408e-01,\n",
              "          3.1092e-02,  3.7053e-01, -2.8538e-01,  1.4399e-01, -2.2006e-01,\n",
              "         -5.5742e-02, -1.0406e-01, -3.4234e-03, -1.1406e-01,  9.1626e-02,\n",
              "          1.7379e-01, -4.3961e-02, -6.4088e-02, -1.4091e-01,  3.6501e-03,\n",
              "         -5.7324e-06,  3.1501e-01,  2.0613e-01,  1.1981e-01,  1.3492e-01,\n",
              "         -1.6633e-01, -2.4867e-01,  1.0433e-01,  1.8241e-01,  4.4173e-02,\n",
              "         -1.4588e-01, -4.6315e-02,  7.3482e-02,  2.1279e-01, -7.2770e-02,\n",
              "         -5.0733e-02,  3.8702e-01,  6.8766e-02,  8.3792e-02,  7.6695e-02,\n",
              "         -8.9175e-02,  3.3622e-01, -2.0837e-01, -9.8360e-03,  2.2285e-01,\n",
              "         -2.0923e-02, -6.2299e-02,  1.1379e-01, -1.5366e-01,  3.2090e-01,\n",
              "          9.9541e-02, -7.0105e-02, -3.5678e-01,  2.7038e-02,  1.2385e-01,\n",
              "         -1.0881e-01, -1.2656e-02,  2.4675e-02,  1.6726e-02, -5.3599e-03,\n",
              "          3.7047e+00,  1.2551e-01, -1.0918e-01,  1.5630e-01,  7.8901e-02,\n",
              "         -5.0735e-02,  2.7044e-01, -1.0225e-01, -2.6742e-01,  2.8723e-01,\n",
              "         -1.8979e-02,  4.7504e-02,  1.2539e-01,  3.6513e-01, -1.0606e-01,\n",
              "          3.5053e-01,  7.4946e-02, -9.5731e-03,  2.4868e-01, -1.3699e-01,\n",
              "          2.4959e-01,  2.0488e-01,  1.8659e-01,  3.2846e-01, -1.1878e+00,\n",
              "         -3.7712e-02, -7.9879e-02,  9.1056e-02,  3.3921e-01, -4.8910e-02,\n",
              "          9.2458e-02,  1.4222e-01,  9.7542e-03,  1.4207e-01,  4.2357e-03,\n",
              "         -4.3188e-02,  4.0460e-01,  5.8708e-02,  1.8671e-01, -2.0797e-01,\n",
              "          6.5574e-02,  3.6067e-02,  7.8452e-03,  6.9947e-02, -1.3707e-01,\n",
              "          3.5834e-02, -1.1707e-01, -7.8782e-02, -2.1260e-01, -8.8604e-02,\n",
              "         -1.0814e-01,  2.1254e-02,  1.7152e-02, -1.4529e-01,  2.4625e-01,\n",
              "         -3.4444e-01, -1.4841e-01,  8.2909e-02,  8.1740e-02, -2.0670e-01,\n",
              "         -1.9392e-01, -1.6727e-01,  9.3486e-03,  1.4353e-01,  1.1203e-01,\n",
              "         -6.9647e-02, -3.6914e-01, -3.0734e-01, -4.2905e+00, -3.3393e-02,\n",
              "         -5.1839e-02,  1.2614e-01,  4.3501e-01, -2.3111e-01,  2.6115e-01,\n",
              "          2.0627e-01,  2.3393e-01, -2.1275e-01,  3.5095e-01,  1.0836e-01,\n",
              "         -3.6565e-02,  1.5057e-01, -3.9018e-01,  1.9519e-01, -8.2639e-02,\n",
              "         -2.1418e-01,  1.6668e-01, -1.0179e-01, -1.4971e-01,  3.9128e-01,\n",
              "         -5.3718e-02,  4.6323e-03, -7.8120e-02, -2.8365e-02, -2.5313e-01,\n",
              "         -1.4142e-01, -2.6593e-02, -1.4239e-01, -1.9666e-02, -1.5155e-01,\n",
              "          3.3605e-02, -1.0159e-01, -2.2451e-01, -2.2571e+00, -6.7969e-02,\n",
              "         -4.9527e-03, -7.3574e-02, -2.1257e-02, -7.4546e-02,  1.9995e-01,\n",
              "         -7.2971e-02, -2.4054e-01,  6.6775e-02, -6.2396e-02, -8.0597e-02,\n",
              "         -2.1546e-01,  2.3629e-01,  3.7188e-01,  1.0614e-01,  1.0466e-01,\n",
              "          5.2806e-02,  2.7806e-01,  2.6389e-01, -9.2675e-02,  1.2512e-03,\n",
              "         -1.8138e-01, -1.7456e-01, -9.2995e-02,  2.2775e-01, -3.5318e-01,\n",
              "          1.4916e-02, -1.9578e-01, -1.4104e-01, -3.4189e-02, -2.1647e-01,\n",
              "          9.0412e-02, -2.4572e-01, -2.0130e-01, -1.1021e-01, -1.1684e-02,\n",
              "          1.3721e-01,  3.8952e-01, -4.8868e-03, -2.7053e-01,  6.3409e-01,\n",
              "          2.0200e-01,  1.4872e-01,  4.6491e-02,  1.0627e-01,  1.0722e-01,\n",
              "         -1.5361e-01, -8.6869e-02,  1.3369e-01, -1.9713e-01,  1.4038e-01,\n",
              "          1.0315e+00, -1.8685e-01,  2.6050e-02, -1.9660e-01,  2.5778e-01,\n",
              "          6.6903e-04,  2.0069e-01,  2.2755e-01,  3.4278e-01, -1.5576e-01,\n",
              "          2.5018e-01, -1.3893e-01, -1.1818e-01, -2.0792e-01,  1.0386e-01,\n",
              "         -3.4501e-01,  1.2341e-01, -8.8423e-02, -3.1816e-02,  1.4676e-01,\n",
              "         -4.9019e-02, -7.0515e-01, -2.7459e-01, -1.4947e-01, -1.4107e-01,\n",
              "          1.6374e-02,  1.1298e-01, -2.6083e-02, -2.5627e-01, -6.1420e-02,\n",
              "         -8.4723e-02,  2.4876e-01,  3.6116e-02, -9.2766e-03, -5.1816e-02,\n",
              "          1.5590e-01, -3.5690e-01,  3.1941e-02,  1.9765e-02,  3.4598e-01,\n",
              "          1.5537e-01,  1.6095e-01,  6.0067e-02, -5.3750e-02,  2.3331e-01,\n",
              "         -7.6175e-01,  1.7123e-01, -2.6502e-01, -2.8683e-02, -3.0222e-01,\n",
              "         -1.8018e-01,  5.2008e-02, -1.6631e-01, -2.8973e-02, -2.5747e-01,\n",
              "          3.8651e-01,  1.4533e-01,  2.5944e-01,  1.5810e-01,  1.9289e-01,\n",
              "         -4.0768e-02,  2.2158e-02,  7.2775e-01,  2.6297e-01, -2.0689e-01,\n",
              "          1.4973e-01,  1.8735e-01, -9.3557e-03,  1.6338e-01,  1.4581e-01,\n",
              "         -6.7698e-02, -1.4764e-01, -1.8688e-01,  3.8129e-03,  7.2977e-02,\n",
              "         -1.5512e-01, -2.1037e-01,  1.3483e-02, -7.3081e-03,  2.6190e-01,\n",
              "         -2.0857e-01, -4.5253e-01, -7.3821e-03, -8.4465e-02, -6.0731e-02,\n",
              "          5.3026e-01,  3.2526e-01,  2.2850e-02,  4.4467e-01,  3.0729e-01,\n",
              "         -1.1506e-01,  2.0496e-01, -6.3092e-02,  2.0245e-01,  6.3865e-02,\n",
              "         -3.8061e-02, -2.7048e-02,  2.4994e-01,  2.1293e-01, -2.7288e-01,\n",
              "          1.5356e-01, -1.4777e-01,  5.5620e-02, -1.9133e-02,  6.5599e-02,\n",
              "         -6.8874e-02,  7.6136e-02, -5.0778e-02,  2.4944e-02,  2.3064e-01,\n",
              "         -1.2261e+00, -1.1638e-02,  2.4535e-01,  8.6997e-02, -8.5431e-02,\n",
              "          3.5067e-02, -7.7357e-02,  4.2437e-01, -5.9187e-02, -1.0323e-01,\n",
              "          1.9593e-02,  6.7797e-02,  2.8566e-02, -2.2127e-03,  8.8576e-02,\n",
              "         -4.6068e-05,  1.9113e-01, -5.6278e-02,  1.1429e-01,  3.1475e-02,\n",
              "         -7.7407e-02,  2.7163e-01,  7.2701e-02, -1.8206e-01, -1.3057e-01,\n",
              "         -5.0382e-04, -1.2133e-01,  2.4968e-01,  1.4598e-01,  5.7920e-03,\n",
              "          1.1630e-01, -2.1038e-01, -4.6718e-01, -6.3134e-02,  4.4540e-02,\n",
              "         -1.2124e-02,  3.7044e-02,  8.5191e-03,  2.3012e-01,  2.3267e-01,\n",
              "         -3.6708e-01,  1.6562e-01,  7.5768e-02, -7.7926e-03,  1.5169e-01,\n",
              "          2.1295e-01, -2.6640e-01,  4.0504e-02, -1.1386e-01, -2.2846e-01,\n",
              "         -1.0333e-01, -3.1094e-01, -2.1480e-01, -9.4105e-02,  8.6468e-02,\n",
              "         -4.3994e-02,  1.0231e-01, -8.4006e-02, -1.3090e-01, -1.1508e-01,\n",
              "          3.1943e-01, -1.5337e-01,  4.1817e-02,  1.7515e-01, -2.0936e-01,\n",
              "         -8.1671e-01,  4.9619e-03, -1.8985e-02, -1.1714e-01,  8.7780e-02,\n",
              "          1.4961e-01, -1.0966e-01, -1.0551e-01, -2.4824e-01, -3.6894e-01,\n",
              "          1.8742e-01, -1.4542e-01, -1.5908e-01,  6.7222e-02, -1.0230e-01,\n",
              "         -7.6807e-03, -2.1918e-01, -1.2886e-01,  7.5978e-02,  1.6376e-01,\n",
              "          6.0811e-02, -4.8051e-02,  3.0756e-02, -1.6962e-02,  1.2096e-01,\n",
              "         -2.3621e-01, -3.6741e-03,  3.4942e-01,  1.9410e-01,  3.1646e-01,\n",
              "         -1.4669e-01,  1.4105e-01,  3.1208e-02,  7.8916e-02, -1.9225e-01,\n",
              "         -7.7252e-02,  2.2214e-01,  1.0166e-03,  1.8466e-01,  7.1833e-02,\n",
              "          2.6436e-01,  2.6826e-01,  1.3592e-01, -2.1796e-01, -1.6706e-01,\n",
              "          1.3375e-02,  2.1478e-01,  1.3276e-01, -9.8466e-02,  1.1731e-01,\n",
              "          6.8677e-02,  9.0567e-02,  8.6923e-02,  2.2121e+00,  2.3419e-01,\n",
              "          4.6251e-02,  8.4623e-02,  1.0094e-01,  2.7246e-01,  6.3896e-02,\n",
              "          1.6722e-01, -1.5285e-02,  1.6185e-01, -1.7157e-01,  1.4789e-03,\n",
              "         -1.9085e-01,  7.5900e-02,  1.1011e-01,  1.2817e-01,  2.7893e-03,\n",
              "          9.5902e-03, -3.6877e-01, -1.1836e-01, -2.7871e-01,  3.6822e-01,\n",
              "          2.2210e-01,  1.1480e-01, -6.7033e-02,  1.9150e-01,  2.2473e-01,\n",
              "         -3.3394e-02, -1.5635e-02, -1.4756e-01,  1.3489e-02,  2.4369e-01,\n",
              "          2.1564e-02,  1.7517e-01, -2.1630e-01, -1.4090e-01,  1.0052e-01,\n",
              "         -3.9014e-01, -6.2829e-02,  5.5798e-02, -3.3514e-02, -3.7368e-01,\n",
              "          3.9487e-01, -1.8948e-01, -1.2572e-01,  3.5203e-01, -1.8874e-02,\n",
              "         -1.5679e-01,  9.3128e-03,  5.3982e-02,  2.0326e-01,  6.7830e-02,\n",
              "         -1.5459e-02,  2.0734e-01, -1.9603e-01, -9.6626e-02,  1.4166e-01,\n",
              "         -2.1276e-02,  5.1488e-02,  1.4469e-01,  1.2547e-03,  1.3108e-01,\n",
              "          1.6095e-01,  1.0592e-01,  5.9294e-02,  4.5837e-02, -1.4150e-01,\n",
              "          1.7824e-01, -2.5738e-01,  1.7106e-01, -1.3729e-02,  9.6227e-02,\n",
              "          1.3197e-01,  2.0739e-01,  2.0907e-01,  3.9640e-02,  3.6874e-01,\n",
              "          1.4475e-01, -8.9563e-02, -2.8406e+00,  2.4573e-01,  1.1533e-01,\n",
              "          2.2787e-01,  5.0309e-02,  2.6345e-01,  1.4782e-01, -2.5631e-02,\n",
              "          2.7831e-02, -6.0150e-02,  1.1571e-01,  2.0700e-01,  2.9178e-01,\n",
              "          5.7775e-02,  2.4075e-01,  1.2063e-01,  8.9519e-02, -1.3806e-01,\n",
              "          8.7437e-02, -8.6128e-02, -3.0587e-01,  1.5690e-01,  1.3057e-01,\n",
              "         -5.8690e-02, -3.5917e-01, -1.2032e-01, -1.0781e-01,  1.1956e-02,\n",
              "          1.3001e-01, -1.7064e-02, -1.3228e-01,  1.9140e-01, -9.4830e-02,\n",
              "          1.3868e-01,  2.3152e-02, -6.3546e-02,  6.9855e-02, -2.3555e-01,\n",
              "          1.5287e-01,  3.8401e-01, -2.2820e-01,  3.4190e-01, -1.7743e-01,\n",
              "          1.7165e-01, -2.3440e-01, -4.6387e-02,  3.1170e-01, -1.3030e-01,\n",
              "          4.7630e-01, -3.2373e-01, -1.4525e-01,  2.8751e-01,  4.5793e-02,\n",
              "          4.5620e-02,  1.2612e-01, -1.0442e-01,  1.0685e-01, -5.9045e-02,\n",
              "         -8.4782e-02, -1.0655e-01, -3.3320e-02, -2.2047e-01, -9.3184e-02,\n",
              "         -1.2764e-01,  2.1311e-01,  1.1288e-05, -6.1856e-02,  1.6222e-01,\n",
              "         -1.7051e-01, -5.3584e-02, -1.0879e-01,  5.1160e-02,  1.1301e-01,\n",
              "          1.6816e-01,  2.4800e-01, -2.6011e-02,  1.6227e-01,  3.3406e-01,\n",
              "          5.3424e-02,  1.6370e-01,  3.5643e-02, -3.6388e-01,  6.7641e-02,\n",
              "          8.7480e-04,  3.0330e-01, -8.1191e+00, -1.5168e-01, -2.4637e-01,\n",
              "         -1.9527e-01, -7.7873e-03, -1.3964e-01,  7.6317e-02, -1.0792e-01,\n",
              "          1.1892e-01, -2.0612e-01, -7.3254e-02,  1.6354e-01, -7.9680e-02,\n",
              "         -1.1881e-01,  6.6206e-02,  5.4702e-01]])"
            ]
          },
          "metadata": {},
          "execution_count": 104
        }
      ]
    },
    {
      "cell_type": "code",
      "source": [
        "tokenizer.model_input_names"
      ],
      "metadata": {
        "colab": {
          "base_uri": "https://localhost:8080/"
        },
        "id": "IDrH0TBb5pRZ",
        "outputId": "1da7f634-b0f9-4e41-ec7f-5672171d8aa6"
      },
      "execution_count": null,
      "outputs": [
        {
          "output_type": "execute_result",
          "data": {
            "text/plain": [
              "['input_ids', 'attention_mask']"
            ]
          },
          "metadata": {},
          "execution_count": 94
        }
      ]
    },
    {
      "cell_type": "code",
      "source": [
        "def extract_hidden_states(batch): \n",
        "  # Place model inputs on the GPU\n",
        "  inputs = {k:v.to(device) for k,v in batch.items()\n",
        "    if k in tokenizer.model_input_names}\n",
        "  # Extract last hidden states \n",
        "  with torch.no_grad():\n",
        "    last_hidden_state = model(**inputs).last_hidden_state \n",
        "  # Return vector for [CLS] token\n",
        "  return {\"hidden_state\": last_hidden_state[:,0].cpu().numpy()}"
      ],
      "metadata": {
        "id": "p4tJ2LqFFbYl"
      },
      "execution_count": null,
      "outputs": []
    },
    {
      "cell_type": "code",
      "source": [
        ""
      ],
      "metadata": {
        "id": "3PjWeLAxGOdu"
      },
      "execution_count": null,
      "outputs": []
    }
  ]
}